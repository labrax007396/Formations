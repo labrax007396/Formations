{
 "cells": [
  {
   "cell_type": "code",
   "execution_count": 2,
   "metadata": {},
   "outputs": [],
   "source": [
    "file_=\"C:/Users/33623/Ultiwatt Dropbox/david mouquet/D - ULTIVISION INDUSTRIES/4-ARCELORMITTAL/2- DEPLOIEMENT AMF/7-Projets 2023/1-UES FLO GALSA1/3-Données Arcelor/BO-Arrets/types d'arrêt.xlsx\"\n",
    "import pandas as pd\n",
    "label = pd.read_excel(file_,usecols=['Liste Groupe'])\n",
    "label.dropna(inplace=True)\n",
    "data  = pd.read_excel(file_,usecols=['commentaire','Groupe']) "
   ]
  },
  {
   "cell_type": "code",
   "execution_count": 3,
   "metadata": {},
   "outputs": [
    {
     "data": {
      "text/html": [
       "<div>\n",
       "<style scoped>\n",
       "    .dataframe tbody tr th:only-of-type {\n",
       "        vertical-align: middle;\n",
       "    }\n",
       "\n",
       "    .dataframe tbody tr th {\n",
       "        vertical-align: top;\n",
       "    }\n",
       "\n",
       "    .dataframe thead th {\n",
       "        text-align: right;\n",
       "    }\n",
       "</style>\n",
       "<table border=\"1\" class=\"dataframe\">\n",
       "  <thead>\n",
       "    <tr style=\"text-align: right;\">\n",
       "      <th></th>\n",
       "      <th>commentaire</th>\n",
       "      <th>Groupe</th>\n",
       "    </tr>\n",
       "  </thead>\n",
       "  <tbody>\n",
       "    <tr>\n",
       "      <th>0</th>\n",
       "      <td>ATMOSPHERE FOUR</td>\n",
       "      <td>Reste</td>\n",
       "    </tr>\n",
       "    <tr>\n",
       "      <th>1</th>\n",
       "      <td>ATMOSPHERE FOUR  fuite eau sur bande . conduit...</td>\n",
       "      <td>Reste</td>\n",
       "    </tr>\n",
       "    <tr>\n",
       "      <th>2</th>\n",
       "      <td>AUTRES ARRETS PLANNIFIES</td>\n",
       "      <td>Arrets plannifiés/programmés</td>\n",
       "    </tr>\n",
       "    <tr>\n",
       "      <th>3</th>\n",
       "      <td>AUTRES ARRETS PLANNIFIES  ATTENTE PROGRAMME</td>\n",
       "      <td>Arrets plannifiés/programmés</td>\n",
       "    </tr>\n",
       "    <tr>\n",
       "      <th>4</th>\n",
       "      <td>AUTRES ARRETS PLANNIFIES  Avance bande.</td>\n",
       "      <td>Arrets plannifiés/programmés</td>\n",
       "    </tr>\n",
       "    <tr>\n",
       "      <th>...</th>\n",
       "      <td>...</td>\n",
       "      <td>...</td>\n",
       "    </tr>\n",
       "    <tr>\n",
       "      <th>88</th>\n",
       "      <td>TRANSPORT et PONTS</td>\n",
       "      <td>Transport et pont</td>\n",
       "    </tr>\n",
       "    <tr>\n",
       "      <th>89</th>\n",
       "      <td>TRANSPORT et PONTS  Attente alimantation</td>\n",
       "      <td>Transport et pont</td>\n",
       "    </tr>\n",
       "    <tr>\n",
       "      <th>90</th>\n",
       "      <td>TRANSPORT et PONTS  idem.</td>\n",
       "      <td>Transport et pont</td>\n",
       "    </tr>\n",
       "    <tr>\n",
       "      <th>91</th>\n",
       "      <td>TRANSPORT et PONTS  pont SA43  avance bande.</td>\n",
       "      <td>Transport et pont</td>\n",
       "    </tr>\n",
       "    <tr>\n",
       "      <th>92</th>\n",
       "      <td>TRANSPORT et PONTS ELECTRICITE Panne SA32</td>\n",
       "      <td>Transport et pont</td>\n",
       "    </tr>\n",
       "  </tbody>\n",
       "</table>\n",
       "<p>93 rows × 2 columns</p>\n",
       "</div>"
      ],
      "text/plain": [
       "                                          commentaire  \\\n",
       "0                                     ATMOSPHERE FOUR   \n",
       "1   ATMOSPHERE FOUR  fuite eau sur bande . conduit...   \n",
       "2                            AUTRES ARRETS PLANNIFIES   \n",
       "3         AUTRES ARRETS PLANNIFIES  ATTENTE PROGRAMME   \n",
       "4             AUTRES ARRETS PLANNIFIES  Avance bande.   \n",
       "..                                                ...   \n",
       "88                                 TRANSPORT et PONTS   \n",
       "89           TRANSPORT et PONTS  Attente alimantation   \n",
       "90                          TRANSPORT et PONTS  idem.   \n",
       "91       TRANSPORT et PONTS  pont SA43  avance bande.   \n",
       "92          TRANSPORT et PONTS ELECTRICITE Panne SA32   \n",
       "\n",
       "                          Groupe  \n",
       "0                          Reste  \n",
       "1                          Reste  \n",
       "2   Arrets plannifiés/programmés  \n",
       "3   Arrets plannifiés/programmés  \n",
       "4   Arrets plannifiés/programmés  \n",
       "..                           ...  \n",
       "88             Transport et pont  \n",
       "89             Transport et pont  \n",
       "90             Transport et pont  \n",
       "91             Transport et pont  \n",
       "92             Transport et pont  \n",
       "\n",
       "[93 rows x 2 columns]"
      ]
     },
     "execution_count": 3,
     "metadata": {},
     "output_type": "execute_result"
    }
   ],
   "source": [
    "data"
   ]
  },
  {
   "cell_type": "code",
   "execution_count": 4,
   "metadata": {},
   "outputs": [],
   "source": [
    "target_unique = label.index.values\n",
    "target_names = list(label['Liste Groupe'])\n",
    "dico_map = {g:t for g,t in zip(target_names,target_unique)}\n",
    "\n",
    "data['target'] = data['Groupe'].map(dico_map)\n",
    "target = data['target'].values"
   ]
  },
  {
   "cell_type": "code",
   "execution_count": 8,
   "metadata": {},
   "outputs": [],
   "source": [
    "import spacy\n",
    "from spacy import displacy\n",
    "nlp = spacy.load('fr_core_news_sm')"
   ]
  },
  {
   "cell_type": "code",
   "execution_count": 9,
   "metadata": {},
   "outputs": [],
   "source": [
    "def lemmatize(text):\n",
    "\n",
    "   doc = nlp(text)\n",
    "\n",
    "   tokens = [token.lemma_ for token in doc if not (token.is_stop or token.is_punct)]\n",
    "\n",
    "   return ' '.join(tokens)"
   ]
  },
  {
   "cell_type": "code",
   "execution_count": 10,
   "metadata": {},
   "outputs": [],
   "source": [
    "data['processed_text'] = data.commentaire.apply(lambda txt : lemmatize(txt))"
   ]
  },
  {
   "cell_type": "code",
   "execution_count": 11,
   "metadata": {},
   "outputs": [
    {
     "data": {
      "text/html": [
       "<div>\n",
       "<style scoped>\n",
       "    .dataframe tbody tr th:only-of-type {\n",
       "        vertical-align: middle;\n",
       "    }\n",
       "\n",
       "    .dataframe tbody tr th {\n",
       "        vertical-align: top;\n",
       "    }\n",
       "\n",
       "    .dataframe thead th {\n",
       "        text-align: right;\n",
       "    }\n",
       "</style>\n",
       "<table border=\"1\" class=\"dataframe\">\n",
       "  <thead>\n",
       "    <tr style=\"text-align: right;\">\n",
       "      <th></th>\n",
       "      <th>commentaire</th>\n",
       "      <th>Groupe</th>\n",
       "      <th>target</th>\n",
       "      <th>processed_text</th>\n",
       "    </tr>\n",
       "  </thead>\n",
       "  <tbody>\n",
       "    <tr>\n",
       "      <th>0</th>\n",
       "      <td>ATMOSPHERE FOUR</td>\n",
       "      <td>Reste</td>\n",
       "      <td>11</td>\n",
       "      <td>atmosphere four</td>\n",
       "    </tr>\n",
       "    <tr>\n",
       "      <th>1</th>\n",
       "      <td>ATMOSPHERE FOUR  fuite eau sur bande . conduit...</td>\n",
       "      <td>Reste</td>\n",
       "      <td>11</td>\n",
       "      <td>atmosphere four   fuite eau bande conduite cassé</td>\n",
       "    </tr>\n",
       "    <tr>\n",
       "      <th>2</th>\n",
       "      <td>AUTRES ARRETS PLANNIFIES</td>\n",
       "      <td>Arrets plannifiés/programmés</td>\n",
       "      <td>0</td>\n",
       "      <td>arret PLANNIFIES</td>\n",
       "    </tr>\n",
       "    <tr>\n",
       "      <th>3</th>\n",
       "      <td>AUTRES ARRETS PLANNIFIES  ATTENTE PROGRAMME</td>\n",
       "      <td>Arrets plannifiés/programmés</td>\n",
       "      <td>0</td>\n",
       "      <td>arret PLANNIFIES   attente PROGRAMME</td>\n",
       "    </tr>\n",
       "    <tr>\n",
       "      <th>4</th>\n",
       "      <td>AUTRES ARRETS PLANNIFIES  Avance bande.</td>\n",
       "      <td>Arrets plannifiés/programmés</td>\n",
       "      <td>0</td>\n",
       "      <td>arret PLANNIFIES   avance bande</td>\n",
       "    </tr>\n",
       "    <tr>\n",
       "      <th>...</th>\n",
       "      <td>...</td>\n",
       "      <td>...</td>\n",
       "      <td>...</td>\n",
       "      <td>...</td>\n",
       "    </tr>\n",
       "    <tr>\n",
       "      <th>88</th>\n",
       "      <td>TRANSPORT et PONTS</td>\n",
       "      <td>Transport et pont</td>\n",
       "      <td>3</td>\n",
       "      <td>transport PONTS</td>\n",
       "    </tr>\n",
       "    <tr>\n",
       "      <th>89</th>\n",
       "      <td>TRANSPORT et PONTS  Attente alimantation</td>\n",
       "      <td>Transport et pont</td>\n",
       "      <td>3</td>\n",
       "      <td>transport pont   attente alimantation</td>\n",
       "    </tr>\n",
       "    <tr>\n",
       "      <th>90</th>\n",
       "      <td>TRANSPORT et PONTS  idem.</td>\n",
       "      <td>Transport et pont</td>\n",
       "      <td>3</td>\n",
       "      <td>transport pont   idem</td>\n",
       "    </tr>\n",
       "    <tr>\n",
       "      <th>91</th>\n",
       "      <td>TRANSPORT et PONTS  pont SA43  avance bande.</td>\n",
       "      <td>Transport et pont</td>\n",
       "      <td>3</td>\n",
       "      <td>transport pont   pont sa43   avance band</td>\n",
       "    </tr>\n",
       "    <tr>\n",
       "      <th>92</th>\n",
       "      <td>TRANSPORT et PONTS ELECTRICITE Panne SA32</td>\n",
       "      <td>Transport et pont</td>\n",
       "      <td>3</td>\n",
       "      <td>transport pont electricite pann sa32</td>\n",
       "    </tr>\n",
       "  </tbody>\n",
       "</table>\n",
       "<p>93 rows × 4 columns</p>\n",
       "</div>"
      ],
      "text/plain": [
       "                                          commentaire  \\\n",
       "0                                     ATMOSPHERE FOUR   \n",
       "1   ATMOSPHERE FOUR  fuite eau sur bande . conduit...   \n",
       "2                            AUTRES ARRETS PLANNIFIES   \n",
       "3         AUTRES ARRETS PLANNIFIES  ATTENTE PROGRAMME   \n",
       "4             AUTRES ARRETS PLANNIFIES  Avance bande.   \n",
       "..                                                ...   \n",
       "88                                 TRANSPORT et PONTS   \n",
       "89           TRANSPORT et PONTS  Attente alimantation   \n",
       "90                          TRANSPORT et PONTS  idem.   \n",
       "91       TRANSPORT et PONTS  pont SA43  avance bande.   \n",
       "92          TRANSPORT et PONTS ELECTRICITE Panne SA32   \n",
       "\n",
       "                          Groupe  target  \\\n",
       "0                          Reste      11   \n",
       "1                          Reste      11   \n",
       "2   Arrets plannifiés/programmés       0   \n",
       "3   Arrets plannifiés/programmés       0   \n",
       "4   Arrets plannifiés/programmés       0   \n",
       "..                           ...     ...   \n",
       "88             Transport et pont       3   \n",
       "89             Transport et pont       3   \n",
       "90             Transport et pont       3   \n",
       "91             Transport et pont       3   \n",
       "92             Transport et pont       3   \n",
       "\n",
       "                                      processed_text  \n",
       "0                                    atmosphere four  \n",
       "1   atmosphere four   fuite eau bande conduite cassé  \n",
       "2                                   arret PLANNIFIES  \n",
       "3               arret PLANNIFIES   attente PROGRAMME  \n",
       "4                    arret PLANNIFIES   avance bande  \n",
       "..                                               ...  \n",
       "88                                   transport PONTS  \n",
       "89             transport pont   attente alimantation  \n",
       "90                             transport pont   idem  \n",
       "91          transport pont   pont sa43   avance band  \n",
       "92              transport pont electricite pann sa32  \n",
       "\n",
       "[93 rows x 4 columns]"
      ]
     },
     "execution_count": 11,
     "metadata": {},
     "output_type": "execute_result"
    }
   ],
   "source": [
    "data"
   ]
  },
  {
   "cell_type": "code",
   "execution_count": 12,
   "metadata": {},
   "outputs": [
    {
     "name": "stdout",
     "output_type": "stream",
     "text": [
      "  (0, 5)\t1\n",
      "  (0, 62)\t1\n",
      "  (1, 5)\t1\n",
      "  (1, 62)\t1\n",
      "  (1, 64)\t1\n",
      "  (1, 49)\t1\n",
      "  (1, 13)\t1\n",
      "  (1, 34)\t1\n",
      "  (1, 25)\t1\n",
      "  (2, 4)\t1\n",
      "  (2, 106)\t1\n",
      "  (3, 4)\t1\n",
      "  (3, 106)\t1\n",
      "  (3, 6)\t1\n",
      "  (3, 115)\t1\n",
      "  (4, 13)\t1\n",
      "  (4, 4)\t1\n",
      "  (4, 106)\t1\n",
      "  (4, 7)\t1\n",
      "  (5, 4)\t1\n",
      "  (5, 106)\t1\n",
      "  (5, 58)\t1\n",
      "  (6, 4)\t1\n",
      "  (6, 106)\t1\n",
      "  (6, 7)\t1\n",
      "  :\t:\n",
      "  (87, 62)\t1\n",
      "  (87, 153)\t1\n",
      "  (87, 126)\t1\n",
      "  (87, 163)\t1\n",
      "  (87, 37)\t1\n",
      "  (87, 152)\t1\n",
      "  (88, 154)\t1\n",
      "  (88, 110)\t1\n",
      "  (89, 6)\t1\n",
      "  (89, 109)\t1\n",
      "  (89, 154)\t1\n",
      "  (89, 2)\t1\n",
      "  (90, 70)\t1\n",
      "  (90, 109)\t1\n",
      "  (90, 154)\t1\n",
      "  (91, 7)\t1\n",
      "  (91, 12)\t1\n",
      "  (91, 109)\t2\n",
      "  (91, 154)\t1\n",
      "  (91, 138)\t1\n",
      "  (92, 51)\t1\n",
      "  (92, 109)\t1\n",
      "  (92, 154)\t1\n",
      "  (92, 94)\t1\n",
      "  (92, 136)\t1\n"
     ]
    }
   ],
   "source": [
    "# import and instantiate the vectorizer\n",
    "from sklearn.feature_extraction.text import CountVectorizer\n",
    "cv = CountVectorizer()\n",
    "\n",
    "# vectorize the lemmatized text\n",
    "X = cv.fit_transform(data.processed_text)\n",
    "print(X)"
   ]
  },
  {
   "cell_type": "code",
   "execution_count": 13,
   "metadata": {},
   "outputs": [
    {
     "name": "stdout",
     "output_type": "stream",
     "text": [
      "Accuracy:  0.978494623655914\n"
     ]
    }
   ],
   "source": [
    "from sklearn.naive_bayes import MultinomialNB\n",
    "from sklearn.metrics import accuracy_score\n",
    "\n",
    "# 1. Declare the model\n",
    "clf = MultinomialNB()\n",
    "\n",
    "# 2. Train the model\n",
    "clf.fit(X, target)\n",
    "\n",
    "# 3. Make predictions\n",
    "yhat = clf.predict(X)\n",
    "\n",
    "# 4. score\n",
    "print(\"Accuracy: \",accuracy_score(target, yhat))"
   ]
  },
  {
   "cell_type": "code",
   "execution_count": 27,
   "metadata": {},
   "outputs": [],
   "source": [
    "new_text = 'PLANNIFIES'\n",
    "\n",
    "df_new = pd.DataFrame({'commentaire':['ARRETS PLANNIF','TRANSPORT']})\n",
    "\n",
    "df_new['processed_text'] =  df_new.commentaire.apply(lambda txt : lemmatize(txt))\n",
    "X_new = cv.transform(df_new.processed_text)\n",
    "#class_pred = clf.fit(new_text)\n",
    "y_new = clf.predict(X_new)"
   ]
  },
  {
   "cell_type": "code",
   "execution_count": 28,
   "metadata": {},
   "outputs": [
    {
     "data": {
      "text/plain": [
       "array([11,  3], dtype=int64)"
      ]
     },
     "execution_count": 28,
     "metadata": {},
     "output_type": "execute_result"
    }
   ],
   "source": [
    "y_new"
   ]
  },
  {
   "cell_type": "code",
   "execution_count": 20,
   "metadata": {},
   "outputs": [
    {
     "data": {
      "text/html": [
       "<div>\n",
       "<style scoped>\n",
       "    .dataframe tbody tr th:only-of-type {\n",
       "        vertical-align: middle;\n",
       "    }\n",
       "\n",
       "    .dataframe tbody tr th {\n",
       "        vertical-align: top;\n",
       "    }\n",
       "\n",
       "    .dataframe thead th {\n",
       "        text-align: right;\n",
       "    }\n",
       "</style>\n",
       "<table border=\"1\" class=\"dataframe\">\n",
       "  <thead>\n",
       "    <tr style=\"text-align: right;\">\n",
       "      <th></th>\n",
       "      <th>commentaire</th>\n",
       "      <th>processed_text</th>\n",
       "    </tr>\n",
       "  </thead>\n",
       "  <tbody>\n",
       "    <tr>\n",
       "      <th>0</th>\n",
       "      <td>PLANNIFIES</td>\n",
       "      <td>plannifie</td>\n",
       "    </tr>\n",
       "    <tr>\n",
       "      <th>1</th>\n",
       "      <td>TRANSPORT</td>\n",
       "      <td>transport</td>\n",
       "    </tr>\n",
       "  </tbody>\n",
       "</table>\n",
       "</div>"
      ],
      "text/plain": [
       "  commentaire processed_text\n",
       "0  PLANNIFIES      plannifie\n",
       "1   TRANSPORT      transport"
      ]
     },
     "execution_count": 20,
     "metadata": {},
     "output_type": "execute_result"
    }
   ],
   "source": [
    "df_new"
   ]
  },
  {
   "cell_type": "code",
   "execution_count": 19,
   "metadata": {},
   "outputs": [
    {
     "data": {
      "text/plain": [
       "{'Arrets plannifiés/programmés': 0,\n",
       " 'Manque métal amont': 1,\n",
       " 'Qualité': 2,\n",
       " 'Transport et pont': 3,\n",
       " 'Changement matériel immergé': 4,\n",
       " 'BS': 5,\n",
       " 'Skin-pass': 6,\n",
       " 'Soudeuse': 7,\n",
       " 'Enroulement': 8,\n",
       " 'Rupture bande': 9,\n",
       " 'Non renseigné': 10,\n",
       " 'Reste': 11}"
      ]
     },
     "execution_count": 19,
     "metadata": {},
     "output_type": "execute_result"
    }
   ],
   "source": [
    "dico_map"
   ]
  },
  {
   "cell_type": "code",
   "execution_count": 18,
   "metadata": {},
   "outputs": [
    {
     "data": {
      "text/plain": [
       "array([11,  3], dtype=int64)"
      ]
     },
     "execution_count": 18,
     "metadata": {},
     "output_type": "execute_result"
    }
   ],
   "source": [
    "y_new"
   ]
  },
  {
   "cell_type": "code",
   "execution_count": 46,
   "metadata": {},
   "outputs": [
    {
     "data": {
      "text/plain": [
       "(93, 180)"
      ]
     },
     "execution_count": 46,
     "metadata": {},
     "output_type": "execute_result"
    }
   ],
   "source": [
    "from sklearn.feature_extraction.text import CountVectorizer\n",
    "count_vect = CountVectorizer()\n",
    "X_train_counts = count_vect.fit_transform(comment)\n",
    "X_train_counts.shape"
   ]
  },
  {
   "cell_type": "code",
   "execution_count": 58,
   "metadata": {},
   "outputs": [
    {
     "data": {
      "text/plain": [
       "array(['13h30', '2m', 'accu', 'alimantation', 'amont', 'apres', 'arret',\n",
       "       'arrets', 'atmosphere', 'attente', 'au', 'autres', 'avance',\n",
       "       'avancée', 'axe', 'baffle', 'bande', 'bloqués', 'bobine',\n",
       "       'bobines', 'bourrage', 'bs1', 'bs2', 'bs3', 'bs4', 'bs5', 'buses',\n",
       "       'capteur', 'cassé', 'cdr', 'centreur', 'changement', 'chariot',\n",
       "       'chutages', 'chute', 'chutes', 'ci', 'cisaille', 'cm', 'conduite',\n",
       "       'consigne', 'contact', 'convertisseur', 'coup', 'coupe', 'creuset',\n",
       "       'danseur', 'de', 'decaler', 'defl', 'deport', 'deroulage', 'des',\n",
       "       'difficulté', 'du', 'déclenchement', 'déport', 'eau', 'ejecteurs',\n",
       "       'electricite', 'embarqué', 'en', 'encocheuse', 'energie',\n",
       "       'enroulement', 'entr', 'entre', 'entree', 'entretien', 'et',\n",
       "       'evacuation', 'fait', 'figé', 'fluide', 'four', 'frottement',\n",
       "       'fuite', 'gestion', 'grains', 'hmi', 'hs', 'huile', 'idem', 'ifg',\n",
       "       'immerge', 'immergees', 'inducteur', 'intouch', 'jet', 'liaison',\n",
       "       'ligne', 'lors', 'manque', 'materiel', 'mattes', 'mauvaise',\n",
       "       'metal', 'mis', 'montee', 'moteur', 'nettoyage', 'non', 'orage',\n",
       "       'outil', 'outils', 'paillettes', 'panne', 'pas', 'pass',\n",
       "       'personnel', 'perte', 'pi', 'pieces', 'pinceur', 'pièce', 'place',\n",
       "       'planicim', 'plannifie', 'plannifies', 'plus', 'pomperie', 'pont',\n",
       "       'ponts', 'pour', 'precentrage', 'presseur', 'probl', 'probleme',\n",
       "       'programme', 'prolongation', 'préparation', 'puisards', 'qualite',\n",
       "       'qualitée', 'queu', 'rayure', 'rayures', 'recherche',\n",
       "       'redémarrage', 'refaire', 'reglage', 'rejet', 'remplacement',\n",
       "       'renseigne', 'retrait', 'rives', 'roll', 'rouleaux', 'rupture',\n",
       "       'sa32', 'sa41', 'sa43', 'sans', 'skin', 'sortie', 'souda',\n",
       "       'soudage', 'soudeuse', 'soudure', 'soutiens', 'stabilisateur',\n",
       "       'suite', 'suivant', 'sur', 'température', 'top', 'tour',\n",
       "       'tractiomètre', 'traction', 'transport', 'travaux', 'trompe', 'un',\n",
       "       'v1', 'v2', 'vitesse', 'voie', 'voie2', 'zero', 'électrique'],\n",
       "      dtype=object)"
      ]
     },
     "execution_count": 58,
     "metadata": {},
     "output_type": "execute_result"
    }
   ],
   "source": [
    "count_vect.get_feature_names_out()"
   ]
  },
  {
   "cell_type": "code",
   "execution_count": 47,
   "metadata": {},
   "outputs": [
    {
     "data": {
      "text/plain": [
       "(93, 180)"
      ]
     },
     "execution_count": 47,
     "metadata": {},
     "output_type": "execute_result"
    }
   ],
   "source": [
    "from sklearn.feature_extraction.text import TfidfTransformer\n",
    "tfidf_transformer = TfidfTransformer()\n",
    "X_train_tfidf = tfidf_transformer.fit_transform(X_train_counts)\n",
    "X_train_tfidf.shape"
   ]
  },
  {
   "cell_type": "code",
   "execution_count": 59,
   "metadata": {},
   "outputs": [],
   "source": [
    "from sklearn.naive_bayes import MultinomialNB\n",
    "clf = MultinomialNB().fit(X_train_counts, target)"
   ]
  },
  {
   "cell_type": "code",
   "execution_count": 60,
   "metadata": {},
   "outputs": [
    {
     "data": {
      "text/plain": [
       "0.989247311827957"
      ]
     },
     "execution_count": 60,
     "metadata": {},
     "output_type": "execute_result"
    }
   ],
   "source": [
    "import numpy as np\n",
    "\n",
    "predicted = clf.predict(X_train_counts)\n",
    "np.mean(predicted == target)"
   ]
  },
  {
   "cell_type": "code",
   "execution_count": 61,
   "metadata": {},
   "outputs": [],
   "source": [
    "data['target_predite'] = predicted"
   ]
  },
  {
   "cell_type": "code",
   "execution_count": 54,
   "metadata": {},
   "outputs": [
    {
     "data": {
      "text/html": [
       "<div>\n",
       "<style scoped>\n",
       "    .dataframe tbody tr th:only-of-type {\n",
       "        vertical-align: middle;\n",
       "    }\n",
       "\n",
       "    .dataframe tbody tr th {\n",
       "        vertical-align: top;\n",
       "    }\n",
       "\n",
       "    .dataframe thead th {\n",
       "        text-align: right;\n",
       "    }\n",
       "</style>\n",
       "<table border=\"1\" class=\"dataframe\">\n",
       "  <thead>\n",
       "    <tr style=\"text-align: right;\">\n",
       "      <th></th>\n",
       "      <th>commentaire</th>\n",
       "      <th>Groupe</th>\n",
       "      <th>target</th>\n",
       "      <th>target_predite</th>\n",
       "    </tr>\n",
       "  </thead>\n",
       "  <tbody>\n",
       "    <tr>\n",
       "      <th>0</th>\n",
       "      <td>ATMOSPHERE FOUR</td>\n",
       "      <td>Reste</td>\n",
       "      <td>11</td>\n",
       "      <td>11</td>\n",
       "    </tr>\n",
       "    <tr>\n",
       "      <th>1</th>\n",
       "      <td>ATMOSPHERE FOUR  fuite eau sur bande . conduit...</td>\n",
       "      <td>Reste</td>\n",
       "      <td>11</td>\n",
       "      <td>11</td>\n",
       "    </tr>\n",
       "    <tr>\n",
       "      <th>2</th>\n",
       "      <td>AUTRES ARRETS PLANNIFIES</td>\n",
       "      <td>Arrets plannifiés/programmés</td>\n",
       "      <td>0</td>\n",
       "      <td>0</td>\n",
       "    </tr>\n",
       "    <tr>\n",
       "      <th>3</th>\n",
       "      <td>AUTRES ARRETS PLANNIFIES  ATTENTE PROGRAMME</td>\n",
       "      <td>Arrets plannifiés/programmés</td>\n",
       "      <td>0</td>\n",
       "      <td>0</td>\n",
       "    </tr>\n",
       "    <tr>\n",
       "      <th>4</th>\n",
       "      <td>AUTRES ARRETS PLANNIFIES  Avance bande.</td>\n",
       "      <td>Arrets plannifiés/programmés</td>\n",
       "      <td>0</td>\n",
       "      <td>0</td>\n",
       "    </tr>\n",
       "    <tr>\n",
       "      <th>...</th>\n",
       "      <td>...</td>\n",
       "      <td>...</td>\n",
       "      <td>...</td>\n",
       "      <td>...</td>\n",
       "    </tr>\n",
       "    <tr>\n",
       "      <th>88</th>\n",
       "      <td>TRANSPORT et PONTS</td>\n",
       "      <td>Transport et pont</td>\n",
       "      <td>3</td>\n",
       "      <td>3</td>\n",
       "    </tr>\n",
       "    <tr>\n",
       "      <th>89</th>\n",
       "      <td>TRANSPORT et PONTS  Attente alimantation</td>\n",
       "      <td>Transport et pont</td>\n",
       "      <td>3</td>\n",
       "      <td>3</td>\n",
       "    </tr>\n",
       "    <tr>\n",
       "      <th>90</th>\n",
       "      <td>TRANSPORT et PONTS  idem.</td>\n",
       "      <td>Transport et pont</td>\n",
       "      <td>3</td>\n",
       "      <td>3</td>\n",
       "    </tr>\n",
       "    <tr>\n",
       "      <th>91</th>\n",
       "      <td>TRANSPORT et PONTS  pont SA43  avance bande.</td>\n",
       "      <td>Transport et pont</td>\n",
       "      <td>3</td>\n",
       "      <td>3</td>\n",
       "    </tr>\n",
       "    <tr>\n",
       "      <th>92</th>\n",
       "      <td>TRANSPORT et PONTS ELECTRICITE Panne SA32</td>\n",
       "      <td>Transport et pont</td>\n",
       "      <td>3</td>\n",
       "      <td>3</td>\n",
       "    </tr>\n",
       "  </tbody>\n",
       "</table>\n",
       "<p>93 rows × 4 columns</p>\n",
       "</div>"
      ],
      "text/plain": [
       "                                          commentaire  \\\n",
       "0                                     ATMOSPHERE FOUR   \n",
       "1   ATMOSPHERE FOUR  fuite eau sur bande . conduit...   \n",
       "2                            AUTRES ARRETS PLANNIFIES   \n",
       "3         AUTRES ARRETS PLANNIFIES  ATTENTE PROGRAMME   \n",
       "4             AUTRES ARRETS PLANNIFIES  Avance bande.   \n",
       "..                                                ...   \n",
       "88                                 TRANSPORT et PONTS   \n",
       "89           TRANSPORT et PONTS  Attente alimantation   \n",
       "90                          TRANSPORT et PONTS  idem.   \n",
       "91       TRANSPORT et PONTS  pont SA43  avance bande.   \n",
       "92          TRANSPORT et PONTS ELECTRICITE Panne SA32   \n",
       "\n",
       "                          Groupe  target  target_predite  \n",
       "0                          Reste      11              11  \n",
       "1                          Reste      11              11  \n",
       "2   Arrets plannifiés/programmés       0               0  \n",
       "3   Arrets plannifiés/programmés       0               0  \n",
       "4   Arrets plannifiés/programmés       0               0  \n",
       "..                           ...     ...             ...  \n",
       "88             Transport et pont       3               3  \n",
       "89             Transport et pont       3               3  \n",
       "90             Transport et pont       3               3  \n",
       "91             Transport et pont       3               3  \n",
       "92             Transport et pont       3               3  \n",
       "\n",
       "[93 rows x 4 columns]"
      ]
     },
     "execution_count": 54,
     "metadata": {},
     "output_type": "execute_result"
    }
   ],
   "source": [
    "data"
   ]
  },
  {
   "cell_type": "code",
   "execution_count": 64,
   "metadata": {},
   "outputs": [
    {
     "data": {
      "text/plain": [
       "<2x180 sparse matrix of type '<class 'numpy.int64'>'\n",
       "\twith 3 stored elements in Compressed Sparse Row format>"
      ]
     },
     "execution_count": 64,
     "metadata": {},
     "output_type": "execute_result"
    }
   ],
   "source": [
    "X_new_counts"
   ]
  },
  {
   "cell_type": "code",
   "execution_count": 63,
   "metadata": {},
   "outputs": [
    {
     "name": "stdout",
     "output_type": "stream",
     "text": [
      "'AUTRES ARRETS PLANNIFIES' => Reste\n",
      "'enroulem' => Reste\n"
     ]
    }
   ],
   "source": [
    "docs_new = ['AUTRES ARRETS PLANNIFIES', 'enroulem']\n",
    "X_new_counts = count_vect.transform(docs_new)\n",
    "#X_new_tfidf = tfidf_transformer.transform(X_new_counts)\n",
    "\n",
    "predicted_new = clf.predict(X_new_counts)\n",
    "\n",
    "for doc, category in zip(docs_new, predicted):\n",
    "    print('%r => %s' % (doc, target_names[category]))"
   ]
  },
  {
   "cell_type": "code",
   "execution_count": 56,
   "metadata": {},
   "outputs": [
    {
     "data": {
      "text/plain": [
       "['Arrets plannifiés/programmés',\n",
       " 'Manque métal amont',\n",
       " 'Qualité',\n",
       " 'Transport et pont',\n",
       " 'Changement matériel immergé',\n",
       " 'BS',\n",
       " 'Skin-pass',\n",
       " 'Soudeuse',\n",
       " 'Enroulement',\n",
       " 'Rupture bande',\n",
       " 'Non renseigné',\n",
       " 'Reste']"
      ]
     },
     "execution_count": 56,
     "metadata": {},
     "output_type": "execute_result"
    }
   ],
   "source": [
    "target_names"
   ]
  }
 ],
 "metadata": {
  "kernelspec": {
   "display_name": "automl",
   "language": "python",
   "name": "python3"
  },
  "language_info": {
   "codemirror_mode": {
    "name": "ipython",
    "version": 3
   },
   "file_extension": ".py",
   "mimetype": "text/x-python",
   "name": "python",
   "nbconvert_exporter": "python",
   "pygments_lexer": "ipython3",
   "version": "3.9.1"
  }
 },
 "nbformat": 4,
 "nbformat_minor": 2
}
