{
 "cells": [
  {
   "cell_type": "code",
   "execution_count": 1,
   "id": "6f32bbfc",
   "metadata": {},
   "outputs": [],
   "source": [
    "import re"
   ]
  },
  {
   "cell_type": "code",
   "execution_count": 10,
   "id": "56b53a81",
   "metadata": {},
   "outputs": [],
   "source": [
    "pattern_1 = \"^[a-z0-9_-]{3,15}$\"\n",
    "is_matched = re.match(pattern_1,'john doe')"
   ]
  },
  {
   "cell_type": "markdown",
   "id": "af864f28",
   "metadata": {},
   "source": [
    "### adresse mail"
   ]
  },
  {
   "cell_type": "code",
   "execution_count": 18,
   "id": "1355df5f",
   "metadata": {},
   "outputs": [
    {
     "name": "stdout",
     "output_type": "stream",
     "text": [
      "Email valide\n"
     ]
    }
   ],
   "source": [
    "pattern_2 = r'^[a-zA-Z0-9_.-]+@[a-z]{2,}.[a-z]{2,}$'\n",
    "\n",
    "if re.match(pattern_2,\"contact22@graven.tt\"):\n",
    "    print(\"Email valide\")\n",
    "else:\n",
    "    print(\"Email invalide\")"
   ]
  },
  {
   "cell_type": "markdown",
   "id": "7d5b5057",
   "metadata": {},
   "source": [
    "### video youtube"
   ]
  },
  {
   "cell_type": "code",
   "execution_count": 23,
   "id": "28a9e0cc",
   "metadata": {},
   "outputs": [
    {
     "name": "stdout",
     "output_type": "stream",
     "text": [
      "video yt\n"
     ]
    }
   ],
   "source": [
    "pat_yt = r'^https:\\/\\/(www.)?youtube.com\\/watch\\?v=[a-zA-Z0-9_-]+$'\n",
    "\n",
    "addresse = 'https://www.youtube.com/watch?v=9hEGC3Mw7wQ'\n",
    "\n",
    "if re.match(pat_yt,addresse):\n",
    "    print(\"video yt\")\n",
    "else:\n",
    "    print(\"pas video yt\")"
   ]
  },
  {
   "cell_type": "code",
   "execution_count": 20,
   "id": "a283e41b",
   "metadata": {},
   "outputs": [
    {
     "data": {
      "text/plain": [
       "'^https:\\\\/\\\\/(www.)?youtube.com\\\\/watch\\\\?v=[a-zA-Z0-9_-]+$'"
      ]
     },
     "execution_count": 20,
     "metadata": {},
     "output_type": "execute_result"
    }
   ],
   "source": [
    "pat_yt"
   ]
  }
 ],
 "metadata": {
  "kernelspec": {
   "display_name": "Python 3",
   "language": "python",
   "name": "python3"
  },
  "language_info": {
   "codemirror_mode": {
    "name": "ipython",
    "version": 3
   },
   "file_extension": ".py",
   "mimetype": "text/x-python",
   "name": "python",
   "nbconvert_exporter": "python",
   "pygments_lexer": "ipython3",
   "version": "3.10.0"
  }
 },
 "nbformat": 4,
 "nbformat_minor": 5
}
