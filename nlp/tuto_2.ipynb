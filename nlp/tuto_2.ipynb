{
 "cells": [
  {
   "cell_type": "code",
   "execution_count": 1,
   "metadata": {},
   "outputs": [
    {
     "name": "stdout",
     "output_type": "stream",
     "text": [
      "showing info https://raw.githubusercontent.com/nltk/nltk_data/gh-pages/index.xml\n"
     ]
    },
    {
     "data": {
      "text/plain": [
       "True"
      ]
     },
     "execution_count": 1,
     "metadata": {},
     "output_type": "execute_result"
    }
   ],
   "source": [
    "import nltk\n",
    "nltk.download()"
   ]
  },
  {
   "cell_type": "code",
   "execution_count": 4,
   "metadata": {},
   "outputs": [],
   "source": [
    "from nltk.corpus import stopwords\n",
    "from nltk import word_tokenize\n",
    "from nltk.tokenize import sent_tokenize\n",
    "import re\n",
    "data = u\"\"\"Wikipédia est un projet wiki d’encyclopédie collective en ligne, universelle, multilingue et fonctionnant sur le principe du wiki. Aimez-vous l'encyclopédie wikipedia ?\"\"\""
   ]
  },
  {
   "cell_type": "code",
   "execution_count": 13,
   "metadata": {},
   "outputs": [
    {
     "name": "stderr",
     "output_type": "stream",
     "text": [
      "[nltk_data] Downloading package punkt to\n",
      "[nltk_data]     C:\\Users\\33623\\AppData\\Roaming\\nltk_data...\n",
      "[nltk_data]   Unzipping tokenizers\\punkt.zip.\n"
     ]
    },
    {
     "data": {
      "text/plain": [
       "True"
      ]
     },
     "execution_count": 13,
     "metadata": {},
     "output_type": "execute_result"
    }
   ],
   "source": [
    "nltk.download('punkt')"
   ]
  },
  {
   "cell_type": "code",
   "execution_count": 11,
   "metadata": {},
   "outputs": [],
   "source": [
    "french_stopwords = set(stopwords.words('french'))\n",
    "filtre_stopfr =  lambda text: [token for token in text if token.lower() not in french_stopwords]"
   ]
  },
  {
   "cell_type": "code",
   "execution_count": 15,
   "metadata": {},
   "outputs": [
    {
     "data": {
      "text/plain": [
       "['Wikipédia',\n",
       " 'est',\n",
       " 'un',\n",
       " 'projet',\n",
       " 'wiki',\n",
       " 'd',\n",
       " '’',\n",
       " 'encyclopédie',\n",
       " 'collective',\n",
       " 'en',\n",
       " 'ligne',\n",
       " ',',\n",
       " 'universelle',\n",
       " ',',\n",
       " 'multilingue',\n",
       " 'et',\n",
       " 'fonctionnant',\n",
       " 'sur',\n",
       " 'le',\n",
       " 'principe',\n",
       " 'du',\n",
       " 'wiki',\n",
       " '.',\n",
       " 'Aimez-vous',\n",
       " \"l'encyclopédie\",\n",
       " 'wikipedia',\n",
       " '?']"
      ]
     },
     "execution_count": 15,
     "metadata": {},
     "output_type": "execute_result"
    }
   ],
   "source": [
    "word_tokenize(data, language=\"french\")"
   ]
  },
  {
   "cell_type": "code",
   "execution_count": 14,
   "metadata": {},
   "outputs": [
    {
     "data": {
      "text/plain": [
       "['Wikipédia',\n",
       " 'projet',\n",
       " 'wiki',\n",
       " '’',\n",
       " 'encyclopédie',\n",
       " 'collective',\n",
       " 'ligne',\n",
       " ',',\n",
       " 'universelle',\n",
       " ',',\n",
       " 'multilingue',\n",
       " 'fonctionnant',\n",
       " 'principe',\n",
       " 'wiki',\n",
       " '.',\n",
       " 'Aimez-vous',\n",
       " \"l'encyclopédie\",\n",
       " 'wikipedia',\n",
       " '?']"
      ]
     },
     "execution_count": 14,
     "metadata": {},
     "output_type": "execute_result"
    }
   ],
   "source": [
    "filtre_stopfr( word_tokenize(data, language=\"french\") )"
   ]
  },
  {
   "cell_type": "code",
   "execution_count": 17,
   "metadata": {},
   "outputs": [],
   "source": [
    "data2 = u\"\"\"Wikipédia est un projet wiki d’encyclopédie collective en ligne. universelle, multilingue et fonctionnant sur le principe du wiki. Aimez-vous l'encyclopédie wikipedia ?\"\"\""
   ]
  },
  {
   "cell_type": "code",
   "execution_count": 19,
   "metadata": {},
   "outputs": [
    {
     "data": {
      "text/plain": [
       "['Wikipédia est un projet wiki d’encyclopédie collective en ligne.',\n",
       " 'universelle, multilingue et fonctionnant sur le principe du wiki.',\n",
       " \"Aimez-vous l'encyclopédie wikipedia ?\"]"
      ]
     },
     "execution_count": 19,
     "metadata": {},
     "output_type": "execute_result"
    }
   ],
   "source": [
    "sent_tokenize(data2, language=\"french\")"
   ]
  },
  {
   "cell_type": "code",
   "execution_count": 21,
   "metadata": {},
   "outputs": [
    {
     "name": "stdout",
     "output_type": "stream",
     "text": [
      "[('i', 21), (' ', 21), ('e', 19), ('n', 12), ('l', 11), ('c', 8), ('p', 7), ('t', 7), ('u', 7), ('o', 7), ('d', 6), ('k', 4), ('s', 4), ('r', 4), ('é', 3), ('a', 3), ('w', 3), ('v', 3), ('y', 2), ('g', 2), (',', 2), ('m', 2), ('W', 1), ('j', 1), ('’', 1), ('f', 1), ('.', 1), ('A', 1), ('z', 1), ('-', 1), (\"'\", 1), ('?', 1)]\n"
     ]
    }
   ],
   "source": [
    "fd = nltk.FreqDist(data) \n",
    "print(fd.most_common())"
   ]
  },
  {
   "cell_type": "code",
   "execution_count": 20,
   "metadata": {},
   "outputs": [
    {
     "data": {
      "text/plain": [
       "['Wikipédia',\n",
       " 'est',\n",
       " 'un',\n",
       " 'projet',\n",
       " 'wiki',\n",
       " 'd',\n",
       " '’',\n",
       " 'encyclopédie',\n",
       " 'collective',\n",
       " 'en',\n",
       " 'ligne',\n",
       " '.',\n",
       " 'universelle',\n",
       " ',',\n",
       " 'multilingue',\n",
       " 'et',\n",
       " 'fonctionnant',\n",
       " 'sur',\n",
       " 'le',\n",
       " 'principe',\n",
       " 'du',\n",
       " 'wiki',\n",
       " '.',\n",
       " 'Aimez-vous',\n",
       " \"l'encyclopédie\",\n",
       " 'wikipedia',\n",
       " '?']"
      ]
     },
     "execution_count": 20,
     "metadata": {},
     "output_type": "execute_result"
    }
   ],
   "source": [
    "word_tokenize(data2)"
   ]
  },
  {
   "cell_type": "code",
   "execution_count": 23,
   "metadata": {},
   "outputs": [],
   "source": [
    "from nltk.probability import FreqDist\n",
    "\n",
    "sent = 'This is an example sentence'\n",
    "\n",
    "fdist = FreqDist(word.lower() for word in word_tokenize(sent))\n"
   ]
  },
  {
   "cell_type": "code",
   "execution_count": 26,
   "metadata": {},
   "outputs": [
    {
     "name": "stdout",
     "output_type": "stream",
     "text": [
      "don\n",
      "don\n",
      "don\n",
      "don\n",
      "don\n",
      "test\n"
     ]
    }
   ],
   "source": [
    "example_words = [\"donner\",\"don\",\"donne\",\"donnera\",\"dons\",\"test\"]\n",
    "stemmer = nltk.stem.snowball.FrenchStemmer()\n",
    "for w in example_words:\n",
    "    print(stemmer.stem(w))"
   ]
  },
  {
   "cell_type": "code",
   "execution_count": 27,
   "metadata": {},
   "outputs": [
    {
     "name": "stdout",
     "output_type": "stream",
     "text": [
      "['Hello', 'Guru99', 'You', 'have', 'build', 'a', 'very', 'good', 'site', 'and', 'I', 'love', 'visiting', 'your', 'site']\n"
     ]
    }
   ],
   "source": [
    "from nltk.tokenize import RegexpTokenizer\n",
    "tokenizer = RegexpTokenizer(r'\\w+')\n",
    "filterdText=tokenizer.tokenize('Hello Guru99, You have build a very good site and I love visiting your site.')\n",
    "print(filterdText)"
   ]
  },
  {
   "cell_type": "code",
   "execution_count": 28,
   "metadata": {},
   "outputs": [
    {
     "ename": "ModuleNotFoundError",
     "evalue": "No module named 'sklearn'",
     "output_type": "error",
     "traceback": [
      "\u001b[1;31m---------------------------------------------------------------------------\u001b[0m",
      "\u001b[1;31mModuleNotFoundError\u001b[0m                       Traceback (most recent call last)",
      "\u001b[1;32mc:\\Users\\33623\\Modeling\\tutoriaux\\nlp\\tuto_2.ipynb Cell 14\u001b[0m line \u001b[0;36m1\n\u001b[1;32m----> <a href='vscode-notebook-cell:/c%3A/Users/33623/Modeling/tutoriaux/nlp/tuto_2.ipynb#X16sZmlsZQ%3D%3D?line=0'>1</a>\u001b[0m \u001b[39mfrom\u001b[39;00m \u001b[39msklearn\u001b[39;00m\u001b[39m.\u001b[39;00m\u001b[39mdatasets\u001b[39;00m \u001b[39mimport\u001b[39;00m fetch_20newsgroups\n",
      "\u001b[1;31mModuleNotFoundError\u001b[0m: No module named 'sklearn'"
     ]
    }
   ],
   "source": [
    " from sklearn.datasets import fetch_20newsgroups"
   ]
  }
 ],
 "metadata": {
  "kernelspec": {
   "display_name": "lang_nat",
   "language": "python",
   "name": "python3"
  },
  "language_info": {
   "codemirror_mode": {
    "name": "ipython",
    "version": 3
   },
   "file_extension": ".py",
   "mimetype": "text/x-python",
   "name": "python",
   "nbconvert_exporter": "python",
   "pygments_lexer": "ipython3",
   "version": "3.9.1"
  }
 },
 "nbformat": 4,
 "nbformat_minor": 2
}
