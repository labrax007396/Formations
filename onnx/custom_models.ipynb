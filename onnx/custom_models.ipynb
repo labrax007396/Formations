{
 "cells": [
  {
   "cell_type": "code",
   "execution_count": null,
   "metadata": {},
   "outputs": [],
   "source": [
    "from skl2onnx.common.data_types import guess_proto_type\n",
    "from onnxconverter_common.onnx_ops import apply_sub\n",
    "from onnxruntime import InferenceSession\n",
    "from skl2onnx import update_registered_converter\n",
    "from skl2onnx import to_onnx\n",
    "import numpy\n",
    "from sklearn.base import TransformerMixin, BaseEstimator\n",
    "from sklearn.datasets import load_iris\n",
    "\n",
    "from mlprodict.onnxrt import OnnxInference\n",
    "from pyquickhelper.helpgen.graphviz_helper import plot_graphviz\n",
    "import pickle\n",
    "from io import BytesIO\n",
    "import numpy\n",
    "from numpy.testing import assert_almost_equal\n",
    "from onnxruntime import InferenceSession\n",
    "from sklearn.base import TransformerMixin, BaseEstimator\n",
    "from sklearn.datasets import load_iris\n",
    "from skl2onnx.common.data_types import guess_numpy_type\n",
    "from skl2onnx import to_onnx\n",
    "from skl2onnx import update_registered_converter\n",
    "from skl2onnx.algebra.onnx_ops import OnnxMatMul, OnnxSub\n",
    "\n",
    "\n",
    "class DecorrelateTransformer(TransformerMixin, BaseEstimator):\n",
    "    \"\"\"\n",
    "    Decorrelates correlated gaussian features.\n",
    "\n",
    "    :param alpha: avoids non inversible matrices\n",
    "        by adding *alpha* identity matrix\n",
    "\n",
    "    *Attributes*\n",
    "\n",
    "    * `self.mean_`: average\n",
    "    * `self.coef_`: square root of the coveriance matrix\n",
    "    \"\"\"\n",
    "\n",
    "    def __init__(self, alpha=0.):\n",
    "        BaseEstimator.__init__(self)\n",
    "        TransformerMixin.__init__(self)\n",
    "        self.alpha = alpha\n",
    "\n",
    "    def fit(self, X, y=None, sample_weights=None):\n",
    "        if sample_weights is not None:\n",
    "            raise NotImplementedError(\n",
    "                \"sample_weights != None is not implemented.\")\n",
    "        self.mean_ = numpy.mean(X, axis=0, keepdims=True)\n",
    "        X = X - self.mean_\n",
    "        V = X.T @ X / X.shape[0]\n",
    "        if self.alpha != 0:\n",
    "            V += numpy.identity(V.shape[0]) * self.alpha\n",
    "        L, P = numpy.linalg.eig(V)\n",
    "        Linv = L ** (-0.5)\n",
    "        diag = numpy.diag(Linv)\n",
    "        root = P @ diag @ P.transpose()\n",
    "        self.coef_ = root\n",
    "        return self\n",
    "\n",
    "    def transform(self, X):\n",
    "        return (X - self.mean_) @ self.coef_\n",
    "\n",
    "\n",
    "data = load_iris()\n",
    "X = data.data\n",
    "\n",
    "dec = DecorrelateTransformer()\n",
    "dec.fit(X)\n",
    "pred = dec.transform(X[:5])\n",
    "print(pred)"
   ]
  },
  {
   "cell_type": "code",
   "execution_count": 2,
   "metadata": {},
   "outputs": [],
   "source": [
    "def decorrelate_transformer_shape_calculator(operator):\n",
    "    op = operator.raw_operator\n",
    "    input_type = operator.inputs[0].type.__class__\n",
    "    # The shape may be unknown. *get_first_dimension*\n",
    "    # returns the appropriate value, None in most cases\n",
    "    # meaning the transformer can process any batch of observations.\n",
    "    input_dim = operator.inputs[0].get_first_dimension()\n",
    "    output_type = input_type([input_dim, op.coef_.shape[1]])\n",
    "    operator.outputs[0].type = output_type"
   ]
  },
  {
   "cell_type": "code",
   "execution_count": 3,
   "metadata": {},
   "outputs": [],
   "source": [
    "def decorrelate_transformer_converter(scope, operator, container):\n",
    "    op = operator.raw_operator\n",
    "    opv = container.target_opset\n",
    "    out = operator.outputs\n",
    "\n",
    "    # We retrieve the unique input.\n",
    "    X = operator.inputs[0]\n",
    "\n",
    "    # In most case, computation happen in floats.\n",
    "    # But it might be with double. ONNX is very strict\n",
    "    # about types, every constant should have the same\n",
    "    # type as the input.\n",
    "    dtype = guess_numpy_type(X.type)\n",
    "\n",
    "    # We tell in ONNX language how to compute the unique output.\n",
    "    # op_version=opv tells which opset is requested\n",
    "    Y = OnnxMatMul(\n",
    "        OnnxSub(X, op.mean_.astype(dtype), op_version=opv),\n",
    "        op.coef_.astype(dtype),\n",
    "        op_version=opv, output_names=out[:1])\n",
    "    Y.add_to(scope, container)"
   ]
  },
  {
   "cell_type": "code",
   "execution_count": 4,
   "metadata": {},
   "outputs": [
    {
     "ename": "NameError",
     "evalue": "name 'guess_numpy_type' is not defined",
     "output_type": "error",
     "traceback": [
      "\u001b[1;31m---------------------------------------------------------------------------\u001b[0m",
      "\u001b[1;31mNameError\u001b[0m                                 Traceback (most recent call last)",
      "\u001b[1;32mc:\\Users\\33623\\Modeling\\tutoriaux\\onnx\\custom_models.ipynb Cell 4\u001b[0m line \u001b[0;36m7\n\u001b[0;32m      <a href='vscode-notebook-cell:/c%3A/Users/33623/Modeling/tutoriaux/onnx/custom_models.ipynb#W3sZmlsZQ%3D%3D?line=0'>1</a>\u001b[0m update_registered_converter(\n\u001b[0;32m      <a href='vscode-notebook-cell:/c%3A/Users/33623/Modeling/tutoriaux/onnx/custom_models.ipynb#W3sZmlsZQ%3D%3D?line=1'>2</a>\u001b[0m     DecorrelateTransformer, \u001b[39m\"\u001b[39m\u001b[39mSklearnDecorrelateTransformer\u001b[39m\u001b[39m\"\u001b[39m,\n\u001b[0;32m      <a href='vscode-notebook-cell:/c%3A/Users/33623/Modeling/tutoriaux/onnx/custom_models.ipynb#W3sZmlsZQ%3D%3D?line=2'>3</a>\u001b[0m     decorrelate_transformer_shape_calculator,\n\u001b[0;32m      <a href='vscode-notebook-cell:/c%3A/Users/33623/Modeling/tutoriaux/onnx/custom_models.ipynb#W3sZmlsZQ%3D%3D?line=3'>4</a>\u001b[0m     decorrelate_transformer_converter)\n\u001b[1;32m----> <a href='vscode-notebook-cell:/c%3A/Users/33623/Modeling/tutoriaux/onnx/custom_models.ipynb#W3sZmlsZQ%3D%3D?line=6'>7</a>\u001b[0m onx \u001b[39m=\u001b[39m to_onnx(dec, X\u001b[39m.\u001b[39;49mastype(numpy\u001b[39m.\u001b[39;49mfloat32))\n\u001b[0;32m      <a href='vscode-notebook-cell:/c%3A/Users/33623/Modeling/tutoriaux/onnx/custom_models.ipynb#W3sZmlsZQ%3D%3D?line=8'>9</a>\u001b[0m sess \u001b[39m=\u001b[39m InferenceSession(onx\u001b[39m.\u001b[39mSerializeToString(),\n\u001b[0;32m     <a href='vscode-notebook-cell:/c%3A/Users/33623/Modeling/tutoriaux/onnx/custom_models.ipynb#W3sZmlsZQ%3D%3D?line=9'>10</a>\u001b[0m                         providers\u001b[39m=\u001b[39m[\u001b[39m'\u001b[39m\u001b[39mCPUExecutionProvider\u001b[39m\u001b[39m'\u001b[39m])\n\u001b[0;32m     <a href='vscode-notebook-cell:/c%3A/Users/33623/Modeling/tutoriaux/onnx/custom_models.ipynb#W3sZmlsZQ%3D%3D?line=11'>12</a>\u001b[0m exp \u001b[39m=\u001b[39m dec\u001b[39m.\u001b[39mtransform(X\u001b[39m.\u001b[39mastype(numpy\u001b[39m.\u001b[39mfloat32))\n",
      "File \u001b[1;32mc:\\Users\\33623\\Modeling\\.venv\\automl\\lib\\site-packages\\skl2onnx\\convert.py:270\u001b[0m, in \u001b[0;36mto_onnx\u001b[1;34m(model, X, name, initial_types, target_opset, options, white_op, black_op, final_types, dtype, naming, model_optim, verbose)\u001b[0m\n\u001b[0;32m    268\u001b[0m \u001b[39mif\u001b[39;00m verbose \u001b[39m>\u001b[39m\u001b[39m=\u001b[39m \u001b[39m1\u001b[39m:\n\u001b[0;32m    269\u001b[0m     \u001b[39mprint\u001b[39m(\u001b[39m\"\u001b[39m\u001b[39m[to_onnx] initial_types=\u001b[39m\u001b[39m%r\u001b[39;00m\u001b[39m\"\u001b[39m \u001b[39m%\u001b[39m initial_types)\n\u001b[1;32m--> 270\u001b[0m \u001b[39mreturn\u001b[39;00m convert_sklearn(model, initial_types\u001b[39m=\u001b[39;49minitial_types,\n\u001b[0;32m    271\u001b[0m                        target_opset\u001b[39m=\u001b[39;49mtarget_opset,\n\u001b[0;32m    272\u001b[0m                        name\u001b[39m=\u001b[39;49mname, options\u001b[39m=\u001b[39;49moptions,\n\u001b[0;32m    273\u001b[0m                        white_op\u001b[39m=\u001b[39;49mwhite_op, black_op\u001b[39m=\u001b[39;49mblack_op,\n\u001b[0;32m    274\u001b[0m                        final_types\u001b[39m=\u001b[39;49mfinal_types, dtype\u001b[39m=\u001b[39;49mdtype,\n\u001b[0;32m    275\u001b[0m                        verbose\u001b[39m=\u001b[39;49mverbose, naming\u001b[39m=\u001b[39;49mnaming,\n\u001b[0;32m    276\u001b[0m                        model_optim\u001b[39m=\u001b[39;49mmodel_optim)\n",
      "File \u001b[1;32mc:\\Users\\33623\\Modeling\\.venv\\automl\\lib\\site-packages\\skl2onnx\\convert.py:188\u001b[0m, in \u001b[0;36mconvert_sklearn\u001b[1;34m(model, name, initial_types, doc_string, target_opset, custom_conversion_functions, custom_shape_calculators, custom_parsers, options, intermediate, white_op, black_op, final_types, dtype, naming, model_optim, verbose)\u001b[0m\n\u001b[0;32m    186\u001b[0m \u001b[39mif\u001b[39;00m verbose \u001b[39m>\u001b[39m\u001b[39m=\u001b[39m \u001b[39m1\u001b[39m:\n\u001b[0;32m    187\u001b[0m     \u001b[39mprint\u001b[39m(\u001b[39m\"\u001b[39m\u001b[39m[convert_sklearn] convert_topology\u001b[39m\u001b[39m\"\u001b[39m)\n\u001b[1;32m--> 188\u001b[0m onnx_model \u001b[39m=\u001b[39m convert_topology(\n\u001b[0;32m    189\u001b[0m     topology, name, doc_string, target_opset, options\u001b[39m=\u001b[39;49moptions,\n\u001b[0;32m    190\u001b[0m     remove_identity\u001b[39m=\u001b[39;49mmodel_optim \u001b[39mand\u001b[39;49;00m \u001b[39mnot\u001b[39;49;00m intermediate, verbose\u001b[39m=\u001b[39;49mverbose)\n\u001b[0;32m    191\u001b[0m \u001b[39mif\u001b[39;00m verbose \u001b[39m>\u001b[39m\u001b[39m=\u001b[39m \u001b[39m1\u001b[39m:\n\u001b[0;32m    192\u001b[0m     \u001b[39mprint\u001b[39m(\u001b[39m\"\u001b[39m\u001b[39m[convert_sklearn] end\u001b[39m\u001b[39m\"\u001b[39m)\n",
      "File \u001b[1;32mc:\\Users\\33623\\Modeling\\.venv\\automl\\lib\\site-packages\\skl2onnx\\common\\_topology.py:1421\u001b[0m, in \u001b[0;36mconvert_topology\u001b[1;34m(topology, model_name, doc_string, target_opset, channel_first_inputs, options, remove_identity, verbose)\u001b[0m\n\u001b[0;32m   1412\u001b[0m container \u001b[39m=\u001b[39m ModelComponentContainer(\n\u001b[0;32m   1413\u001b[0m     target_opset, options\u001b[39m=\u001b[39moptions,\n\u001b[0;32m   1414\u001b[0m     registered_models\u001b[39m=\u001b[39mtopology\u001b[39m.\u001b[39mregistered_models,\n\u001b[0;32m   1415\u001b[0m     white_op\u001b[39m=\u001b[39mtopology\u001b[39m.\u001b[39mraw_model\u001b[39m.\u001b[39m_white_op,\n\u001b[0;32m   1416\u001b[0m     black_op\u001b[39m=\u001b[39mtopology\u001b[39m.\u001b[39mraw_model\u001b[39m.\u001b[39m_black_op,\n\u001b[0;32m   1417\u001b[0m     verbose\u001b[39m=\u001b[39mverbose)\n\u001b[0;32m   1419\u001b[0m \u001b[39m# Traverse the graph from roots to leaves\u001b[39;00m\n\u001b[0;32m   1420\u001b[0m \u001b[39m# This loop could eventually be parallelized.\u001b[39;00m\n\u001b[1;32m-> 1421\u001b[0m topology\u001b[39m.\u001b[39;49mconvert_operators(container\u001b[39m=\u001b[39;49mcontainer, verbose\u001b[39m=\u001b[39;49mverbose)\n\u001b[0;32m   1422\u001b[0m container\u001b[39m.\u001b[39mensure_topological_order()\n\u001b[0;32m   1424\u001b[0m \u001b[39mif\u001b[39;00m \u001b[39mlen\u001b[39m(container\u001b[39m.\u001b[39minputs) \u001b[39m==\u001b[39m \u001b[39m0\u001b[39m:\n",
      "File \u001b[1;32mc:\\Users\\33623\\Modeling\\.venv\\automl\\lib\\site-packages\\skl2onnx\\common\\_topology.py:1256\u001b[0m, in \u001b[0;36mTopology.convert_operators\u001b[1;34m(self, container, verbose)\u001b[0m\n\u001b[0;32m   1253\u001b[0m     _check_variable_out_(variable, operator)\n\u001b[0;32m   1255\u001b[0m \u001b[39mself\u001b[39m\u001b[39m.\u001b[39mcall_shape_calculator(operator)\n\u001b[1;32m-> 1256\u001b[0m \u001b[39mself\u001b[39;49m\u001b[39m.\u001b[39;49mcall_converter(operator, container, verbose\u001b[39m=\u001b[39;49mverbose)\n\u001b[0;32m   1258\u001b[0m \u001b[39m# If an operator contains a sequence of operators,\u001b[39;00m\n\u001b[0;32m   1259\u001b[0m \u001b[39m# output variables are not necessarily known at this stage.\u001b[39;00m\n\u001b[0;32m   1260\u001b[0m operator\u001b[39m.\u001b[39minit_status(is_evaluated\u001b[39m=\u001b[39m\u001b[39mTrue\u001b[39;00m)\n",
      "File \u001b[1;32mc:\\Users\\33623\\Modeling\\.venv\\automl\\lib\\site-packages\\skl2onnx\\common\\_topology.py:1062\u001b[0m, in \u001b[0;36mTopology.call_converter\u001b[1;34m(self, operator, container, verbose)\u001b[0m\n\u001b[0;32m   1057\u001b[0m     \u001b[39mprint\u001b[39m(\u001b[39m\"\u001b[39m\u001b[39m[call_converter] call converter for \u001b[39m\u001b[39m%r\u001b[39;00m\u001b[39m.\u001b[39m\u001b[39m\"\u001b[39m \u001b[39m%\u001b[39m operator\u001b[39m.\u001b[39mtype)\n\u001b[0;32m   1058\u001b[0m logger\u001b[39m.\u001b[39mdebug(\n\u001b[0;32m   1059\u001b[0m     \u001b[39m\"\u001b[39m\u001b[39m[Conv] call \u001b[39m\u001b[39m%r\u001b[39;00m\u001b[39m fed \u001b[39m\u001b[39m%r\u001b[39;00m\u001b[39m - \u001b[39m\u001b[39m%r\u001b[39;00m\u001b[39m\"\u001b[39m, operator,\n\u001b[0;32m   1060\u001b[0m     \u001b[39m\"\u001b[39m\u001b[39m\"\u001b[39m\u001b[39m.\u001b[39mjoin(\u001b[39mstr\u001b[39m(i\u001b[39m.\u001b[39mis_fed) \u001b[39mfor\u001b[39;00m i \u001b[39min\u001b[39;00m operator\u001b[39m.\u001b[39minputs),\n\u001b[0;32m   1061\u001b[0m     \u001b[39m\"\u001b[39m\u001b[39m\"\u001b[39m\u001b[39m.\u001b[39mjoin(\u001b[39mstr\u001b[39m(i\u001b[39m.\u001b[39mis_fed) \u001b[39mfor\u001b[39;00m i \u001b[39min\u001b[39;00m operator\u001b[39m.\u001b[39moutputs))\n\u001b[1;32m-> 1062\u001b[0m conv(\u001b[39mself\u001b[39;49m\u001b[39m.\u001b[39;49mscopes[\u001b[39m0\u001b[39;49m], operator, container)\n\u001b[0;32m   1063\u001b[0m logger\u001b[39m.\u001b[39mdebug(\u001b[39m\"\u001b[39m\u001b[39m[Conv] end - \u001b[39m\u001b[39m%r\u001b[39;00m\u001b[39m\"\u001b[39m, operator)\n",
      "File \u001b[1;32mc:\\Users\\33623\\Modeling\\.venv\\automl\\lib\\site-packages\\skl2onnx\\common\\_registration.py:26\u001b[0m, in \u001b[0;36mRegisteredConverter.__call__\u001b[1;34m(self, *args)\u001b[0m\n\u001b[0;32m     24\u001b[0m     \u001b[39mif\u001b[39;00m args[\u001b[39m1\u001b[39m]\u001b[39m.\u001b[39mraw_operator \u001b[39mis\u001b[39;00m \u001b[39mnot\u001b[39;00m \u001b[39mNone\u001b[39;00m:\n\u001b[0;32m     25\u001b[0m         args[\u001b[39m2\u001b[39m]\u001b[39m.\u001b[39m_get_allowed_options(args[\u001b[39m1\u001b[39m]\u001b[39m.\u001b[39mraw_operator)\n\u001b[1;32m---> 26\u001b[0m \u001b[39mreturn\u001b[39;00m \u001b[39mself\u001b[39;49m\u001b[39m.\u001b[39;49m_fct(\u001b[39m*\u001b[39;49margs)\n",
      "\u001b[1;32mc:\\Users\\33623\\Modeling\\tutoriaux\\onnx\\custom_models.ipynb Cell 4\u001b[0m line \u001b[0;36m1\n\u001b[0;32m      <a href='vscode-notebook-cell:/c%3A/Users/33623/Modeling/tutoriaux/onnx/custom_models.ipynb#W3sZmlsZQ%3D%3D?line=6'>7</a>\u001b[0m X \u001b[39m=\u001b[39m operator\u001b[39m.\u001b[39minputs[\u001b[39m0\u001b[39m]\n\u001b[0;32m      <a href='vscode-notebook-cell:/c%3A/Users/33623/Modeling/tutoriaux/onnx/custom_models.ipynb#W3sZmlsZQ%3D%3D?line=8'>9</a>\u001b[0m \u001b[39m# In most case, computation happen in floats.\u001b[39;00m\n\u001b[0;32m     <a href='vscode-notebook-cell:/c%3A/Users/33623/Modeling/tutoriaux/onnx/custom_models.ipynb#W3sZmlsZQ%3D%3D?line=9'>10</a>\u001b[0m \u001b[39m# But it might be with double. ONNX is very strict\u001b[39;00m\n\u001b[0;32m     <a href='vscode-notebook-cell:/c%3A/Users/33623/Modeling/tutoriaux/onnx/custom_models.ipynb#W3sZmlsZQ%3D%3D?line=10'>11</a>\u001b[0m \u001b[39m# about types, every constant should have the same\u001b[39;00m\n\u001b[0;32m     <a href='vscode-notebook-cell:/c%3A/Users/33623/Modeling/tutoriaux/onnx/custom_models.ipynb#W3sZmlsZQ%3D%3D?line=11'>12</a>\u001b[0m \u001b[39m# type as the input.\u001b[39;00m\n\u001b[1;32m---> <a href='vscode-notebook-cell:/c%3A/Users/33623/Modeling/tutoriaux/onnx/custom_models.ipynb#W3sZmlsZQ%3D%3D?line=12'>13</a>\u001b[0m dtype \u001b[39m=\u001b[39m guess_numpy_type(X\u001b[39m.\u001b[39mtype)\n\u001b[0;32m     <a href='vscode-notebook-cell:/c%3A/Users/33623/Modeling/tutoriaux/onnx/custom_models.ipynb#W3sZmlsZQ%3D%3D?line=14'>15</a>\u001b[0m \u001b[39m# We tell in ONNX language how to compute the unique output.\u001b[39;00m\n\u001b[0;32m     <a href='vscode-notebook-cell:/c%3A/Users/33623/Modeling/tutoriaux/onnx/custom_models.ipynb#W3sZmlsZQ%3D%3D?line=15'>16</a>\u001b[0m \u001b[39m# op_version=opv tells which opset is requested\u001b[39;00m\n\u001b[0;32m     <a href='vscode-notebook-cell:/c%3A/Users/33623/Modeling/tutoriaux/onnx/custom_models.ipynb#W3sZmlsZQ%3D%3D?line=16'>17</a>\u001b[0m Y \u001b[39m=\u001b[39m OnnxMatMul(\n\u001b[0;32m     <a href='vscode-notebook-cell:/c%3A/Users/33623/Modeling/tutoriaux/onnx/custom_models.ipynb#W3sZmlsZQ%3D%3D?line=17'>18</a>\u001b[0m     OnnxSub(X, op\u001b[39m.\u001b[39mmean_\u001b[39m.\u001b[39mastype(dtype), op_version\u001b[39m=\u001b[39mopv),\n\u001b[0;32m     <a href='vscode-notebook-cell:/c%3A/Users/33623/Modeling/tutoriaux/onnx/custom_models.ipynb#W3sZmlsZQ%3D%3D?line=18'>19</a>\u001b[0m     op\u001b[39m.\u001b[39mcoef_\u001b[39m.\u001b[39mastype(dtype),\n\u001b[0;32m     <a href='vscode-notebook-cell:/c%3A/Users/33623/Modeling/tutoriaux/onnx/custom_models.ipynb#W3sZmlsZQ%3D%3D?line=19'>20</a>\u001b[0m     op_version\u001b[39m=\u001b[39mopv, output_names\u001b[39m=\u001b[39mout[:\u001b[39m1\u001b[39m])\n",
      "\u001b[1;31mNameError\u001b[0m: name 'guess_numpy_type' is not defined"
     ]
    }
   ],
   "source": [
    "update_registered_converter(\n",
    "    DecorrelateTransformer, \"SklearnDecorrelateTransformer\",\n",
    "    decorrelate_transformer_shape_calculator,\n",
    "    decorrelate_transformer_converter)\n",
    "\n",
    "\n",
    "onx = to_onnx(dec, X.astype(numpy.float32))\n",
    "\n",
    "sess = InferenceSession(onx.SerializeToString(),\n",
    "                        providers=['CPUExecutionProvider'])\n",
    "\n",
    "exp = dec.transform(X.astype(numpy.float32))\n",
    "got = sess.run(None, {'X': X.astype(numpy.float32)})[0]\n",
    "\n",
    "\n",
    "def diff(p1, p2):\n",
    "    p1 = p1.ravel()\n",
    "    p2 = p2.ravel()\n",
    "    d = numpy.abs(p2 - p1)\n",
    "    return d.max(), (d / numpy.abs(p1)).max()\n",
    "\n",
    "\n",
    "print(diff(exp, got))"
   ]
  },
  {
   "cell_type": "code",
   "execution_count": 1,
   "metadata": {},
   "outputs": [
    {
     "ename": "ModuleNotFoundError",
     "evalue": "No module named 'sclblonnx'",
     "output_type": "error",
     "traceback": [
      "\u001b[1;31m---------------------------------------------------------------------------\u001b[0m",
      "\u001b[1;31mModuleNotFoundError\u001b[0m                       Traceback (most recent call last)",
      "\u001b[1;32mc:\\Users\\33623\\Modeling\\tutoriaux\\onnx\\custom_models.ipynb Cell 5\u001b[0m line \u001b[0;36m1\n\u001b[1;32m----> <a href='vscode-notebook-cell:/c%3A/Users/33623/Modeling/tutoriaux/onnx/custom_models.ipynb#W4sZmlsZQ%3D%3D?line=0'>1</a>\u001b[0m \u001b[39mimport\u001b[39;00m \u001b[39msclblonnx\u001b[39;00m \u001b[39mas\u001b[39;00m \u001b[39mso\u001b[39;00m\n",
      "\u001b[1;31mModuleNotFoundError\u001b[0m: No module named 'sclblonnx'"
     ]
    }
   ],
   "source": [
    "import sclblonnx as so"
   ]
  }
 ],
 "metadata": {
  "kernelspec": {
   "display_name": "automl",
   "language": "python",
   "name": "python3"
  },
  "language_info": {
   "codemirror_mode": {
    "name": "ipython",
    "version": 3
   },
   "file_extension": ".py",
   "mimetype": "text/x-python",
   "name": "python",
   "nbconvert_exporter": "python",
   "pygments_lexer": "ipython3",
   "version": "3.9.1"
  }
 },
 "nbformat": 4,
 "nbformat_minor": 2
}
