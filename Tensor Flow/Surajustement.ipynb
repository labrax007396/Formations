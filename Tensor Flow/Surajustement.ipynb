{
 "cells": [
  {
   "cell_type": "code",
   "execution_count": 1,
   "metadata": {},
   "outputs": [
    {
     "name": "stdout",
     "output_type": "stream",
     "text": [
      "2.11.0\n"
     ]
    }
   ],
   "source": [
    "import tensorflow as tf\n",
    "\n",
    "from tensorflow.keras import layers\n",
    "from tensorflow.keras import regularizers\n",
    "\n",
    "print(tf.__version__)"
   ]
  },
  {
   "cell_type": "code",
   "execution_count": null,
   "metadata": {},
   "outputs": [],
   "source": [
    "!pip install git+https://github.com/tensorflow/docs"
   ]
  },
  {
   "cell_type": "code",
   "execution_count": 3,
   "metadata": {},
   "outputs": [],
   "source": [
    "import tensorflow_docs as tfdocs\n",
    "import tensorflow_docs.modeling\n",
    "import tensorflow_docs.plots\n",
    "\n",
    "from  IPython import display\n",
    "from matplotlib import pyplot as plt\n",
    "\n",
    "import numpy as np\n",
    "\n",
    "import pathlib\n",
    "import shutil\n",
    "import tempfile\n",
    "\n",
    "logdir = pathlib.Path(tempfile.mkdtemp())/\"tensorboard_logs\"\n",
    "shutil.rmtree(logdir, ignore_errors=True)"
   ]
  },
  {
   "cell_type": "code",
   "execution_count": 4,
   "metadata": {},
   "outputs": [
    {
     "name": "stdout",
     "output_type": "stream",
     "text": [
      "Downloading data from http://mlphysics.ics.uci.edu/data/higgs/HIGGS.csv.gz\n",
      "2816407858/2816407858 [==============================] - 168s 0us/step\n"
     ]
    }
   ],
   "source": [
    "gz = tf.keras.utils.get_file('HIGGS.csv.gz', 'http://mlphysics.ics.uci.edu/data/higgs/HIGGS.csv.gz')\n"
   ]
  },
  {
   "cell_type": "code",
   "execution_count": 8,
   "metadata": {},
   "outputs": [],
   "source": [
    "FEATURES = 28\n",
    "ds = tf.data.experimental.CsvDataset(gz,[float(),]*(FEATURES+1), compression_type=\"GZIP\")\n",
    "\n"
   ]
  },
  {
   "cell_type": "code",
   "execution_count": 10,
   "metadata": {},
   "outputs": [],
   "source": [
    "def pack_row(*row):\n",
    "  label = row[0]\n",
    "  features = tf.stack(row[1:],1)\n",
    "  return features, label"
   ]
  },
  {
   "cell_type": "code",
   "execution_count": 11,
   "metadata": {},
   "outputs": [],
   "source": [
    "packed_ds = ds.batch(10000).map(pack_row).unbatch()"
   ]
  },
  {
   "cell_type": "code",
   "execution_count": 14,
   "metadata": {},
   "outputs": [
    {
     "name": "stdout",
     "output_type": "stream",
     "text": [
      "tf.Tensor(\n",
      "[ 0.8692932  -0.6350818   0.22569026  0.32747006 -0.6899932   0.75420225\n",
      " -0.24857314 -1.0920639   0.          1.3749921  -0.6536742   0.9303491\n",
      "  1.1074361   1.1389043  -1.5781983  -1.0469854   0.          0.65792954\n",
      " -0.01045457 -0.04576717  3.1019614   1.35376     0.9795631   0.97807616\n",
      "  0.92000484  0.72165745  0.98875093  0.87667835], shape=(28,), dtype=float32)\n"
     ]
    },
    {
     "data": {
      "image/png": "[encoded data removed]",
      "text/plain": [
       "<Figure size 432x288 with 1 Axes>"
      ]
     },
     "metadata": {
      "needs_background": "light"
     },
     "output_type": "display_data"
    }
   ],
   "source": [
    "for features,label in packed_ds.batch(1000).take(1):\n",
    "  print(features[0])\n",
    "  plt.hist(features.numpy().flatten(), bins = 101)"
   ]
  },
  {
   "cell_type": "code",
   "execution_count": 15,
   "metadata": {},
   "outputs": [],
   "source": [
    "N_VALIDATION = int(1e3)\n",
    "N_TRAIN = int(1e4)\n",
    "BUFFER_SIZE = int(1e4)\n",
    "BATCH_SIZE = 500\n",
    "STEPS_PER_EPOCH = N_TRAIN//BATCH_SIZE"
   ]
  },
  {
   "cell_type": "code",
   "execution_count": 17,
   "metadata": {},
   "outputs": [],
   "source": [
    "validate_ds = packed_ds.take(N_VALIDATION).cache()\n",
    "train_ds = packed_ds.skip(N_VALIDATION).take(N_TRAIN).cache()"
   ]
  },
  {
   "cell_type": "code",
   "execution_count": 19,
   "metadata": {},
   "outputs": [],
   "source": [
    "validate_ds = validate_ds.batch(BATCH_SIZE)\n",
    "train_ds = train_ds.shuffle(BUFFER_SIZE).repeat().batch(BATCH_SIZE)"
   ]
  },
  {
   "cell_type": "code",
   "execution_count": 20,
   "metadata": {},
   "outputs": [],
   "source": [
    "lr_schedule = tf.keras.optimizers.schedules.InverseTimeDecay(\n",
    "  0.001,\n",
    "  decay_steps=STEPS_PER_EPOCH*1000,\n",
    "  decay_rate=1,\n",
    "  staircase=False)\n",
    "\n",
    "def get_optimizer():\n",
    "  return tf.keras.optimizers.Adam(lr_schedule)"
   ]
  },
  {
   "cell_type": "code",
   "execution_count": 24,
   "metadata": {},
   "outputs": [],
   "source": [
    "def get_callbacks(name):\n",
    "  return [\n",
    "    tfdocs.modeling.EpochDots(),\n",
    "    tf.keras.callbacks.EarlyStopping(monitor='val_binary_crossentropy', patience=200),\n",
    "    tf.keras.callbacks.TensorBoard(logdir/name),\n",
    "  ]"
   ]
  },
  {
   "cell_type": "code",
   "execution_count": 25,
   "metadata": {},
   "outputs": [],
   "source": [
    "def compile_and_fit(model, name, optimizer=None, max_epochs=10000):\n",
    "  if optimizer is None:\n",
    "    optimizer = get_optimizer()\n",
    "  model.compile(optimizer=optimizer,\n",
    "                loss=tf.keras.losses.BinaryCrossentropy(from_logits=True),\n",
    "                metrics=[\n",
    "                  tf.keras.losses.BinaryCrossentropy(\n",
    "                      from_logits=True, name='binary_crossentropy'),\n",
    "                  'accuracy'])\n",
    "\n",
    "  model.summary()\n",
    "\n",
    "  history = model.fit(\n",
    "    train_ds,\n",
    "    steps_per_epoch = STEPS_PER_EPOCH,\n",
    "    epochs=max_epochs,\n",
    "    validation_data=validate_ds,\n",
    "    callbacks=get_callbacks(name),\n",
    "    verbose=0)\n",
    "  return history"
   ]
  },
  {
   "attachments": {},
   "cell_type": "markdown",
   "metadata": {},
   "source": [
    "### Petit modèle"
   ]
  },
  {
   "cell_type": "code",
   "execution_count": 26,
   "metadata": {},
   "outputs": [],
   "source": [
    "tiny_model = tf.keras.Sequential([\n",
    "    layers.Dense(16, activation='elu', input_shape=(FEATURES,)),\n",
    "    layers.Dense(1)\n",
    "])"
   ]
  },
  {
   "cell_type": "code",
   "execution_count": 27,
   "metadata": {},
   "outputs": [
    {
     "name": "stdout",
     "output_type": "stream",
     "text": [
      "Model: \"sequential_1\"\n",
      "_________________________________________________________________\n",
      " Layer (type)                Output Shape              Param #   \n",
      "=================================================================\n",
      " dense_2 (Dense)             (None, 16)                464       \n",
      "                                                                 \n",
      " dense_3 (Dense)             (None, 1)                 17        \n",
      "                                                                 \n",
      "=================================================================\n",
      "Total params: 481\n",
      "Trainable params: 481\n",
      "Non-trainable params: 0\n",
      "_________________________________________________________________\n",
      "\n",
      "Epoch: 0, accuracy:0.5118,  binary_crossentropy:0.7544,  loss:0.7544,  val_accuracy:0.5040,  val_binary_crossentropy:0.7339,  val_loss:0.7339,  \n",
      "....................................................................................................\n",
      "Epoch: 100, accuracy:0.5922,  binary_crossentropy:0.6281,  loss:0.6281,  val_accuracy:0.5900,  val_binary_crossentropy:0.6314,  val_loss:0.6314,  \n",
      "....................................................................................................\n",
      "Epoch: 200, accuracy:0.6159,  binary_crossentropy:0.6170,  loss:0.6170,  val_accuracy:0.6060,  val_binary_crossentropy:0.6193,  val_loss:0.6193,  \n",
      "....................................................................................................\n",
      "Epoch: 300, accuracy:0.6392,  binary_crossentropy:0.6076,  loss:0.6076,  val_accuracy:0.6170,  val_binary_crossentropy:0.6065,  val_loss:0.6065,  \n",
      "....................................................................................................\n",
      "Epoch: 400, accuracy:0.6408,  binary_crossentropy:0.6006,  loss:0.6006,  val_accuracy:0.6360,  val_binary_crossentropy:0.5981,  val_loss:0.5981,  \n",
      "....................................................................................................\n",
      "Epoch: 500, accuracy:0.6540,  binary_crossentropy:0.5958,  loss:0.5958,  val_accuracy:0.6410,  val_binary_crossentropy:0.5946,  val_loss:0.5946,  \n",
      "....................................................................................................\n",
      "Epoch: 600, accuracy:0.6539,  binary_crossentropy:0.5923,  loss:0.5923,  val_accuracy:0.6450,  val_binary_crossentropy:0.5924,  val_loss:0.5924,  \n",
      "....................................................................................................\n",
      "Epoch: 700, accuracy:0.6609,  binary_crossentropy:0.5899,  loss:0.5899,  val_accuracy:0.6340,  val_binary_crossentropy:0.5946,  val_loss:0.5946,  \n",
      "....................................................................................................\n",
      "Epoch: 800, accuracy:0.6662,  binary_crossentropy:0.5868,  loss:0.5868,  val_accuracy:0.6460,  val_binary_crossentropy:0.5922,  val_loss:0.5922,  \n",
      "....................................................................................................\n",
      "Epoch: 900, accuracy:0.6718,  binary_crossentropy:0.5846,  loss:0.5846,  val_accuracy:0.6390,  val_binary_crossentropy:0.5927,  val_loss:0.5927,  \n",
      "....................................................................................................\n",
      "Epoch: 1000, accuracy:0.6716,  binary_crossentropy:0.5825,  loss:0.5825,  val_accuracy:0.6630,  val_binary_crossentropy:0.5908,  val_loss:0.5908,  \n",
      "....................................................................................................\n",
      "Epoch: 1100, accuracy:0.6748,  binary_crossentropy:0.5803,  loss:0.5803,  val_accuracy:0.6690,  val_binary_crossentropy:0.5913,  val_loss:0.5913,  \n",
      "....................................................................................................\n",
      "Epoch: 1200, accuracy:0.6773,  binary_crossentropy:0.5785,  loss:0.5785,  val_accuracy:0.6660,  val_binary_crossentropy:0.5913,  val_loss:0.5913,  \n",
      "....................................................................................................\n",
      "Epoch: 1300, accuracy:0.6781,  binary_crossentropy:0.5769,  loss:0.5769,  val_accuracy:0.6720,  val_binary_crossentropy:0.5899,  val_loss:0.5899,  \n",
      "....................................................................................................\n",
      "Epoch: 1400, accuracy:0.6783,  binary_crossentropy:0.5755,  loss:0.5755,  val_accuracy:0.6600,  val_binary_crossentropy:0.5904,  val_loss:0.5904,  \n",
      "....................................................................................................\n",
      "Epoch: 1500, accuracy:0.6782,  binary_crossentropy:0.5743,  loss:0.5743,  val_accuracy:0.6720,  val_binary_crossentropy:0.5886,  val_loss:0.5886,  \n",
      "....................................................................................................\n",
      "Epoch: 1600, accuracy:0.6821,  binary_crossentropy:0.5729,  loss:0.5729,  val_accuracy:0.6730,  val_binary_crossentropy:0.5872,  val_loss:0.5872,  \n",
      "....................................................................................................\n",
      "Epoch: 1700, accuracy:0.6819,  binary_crossentropy:0.5715,  loss:0.5715,  val_accuracy:0.6740,  val_binary_crossentropy:0.5862,  val_loss:0.5862,  \n",
      "....................................................................................................\n",
      "Epoch: 1800, accuracy:0.6850,  binary_crossentropy:0.5700,  loss:0.5700,  val_accuracy:0.6720,  val_binary_crossentropy:0.5860,  val_loss:0.5860,  \n",
      "....................................................................................................\n",
      "Epoch: 1900, accuracy:0.6844,  binary_crossentropy:0.5693,  loss:0.5693,  val_accuracy:0.6840,  val_binary_crossentropy:0.5844,  val_loss:0.5844,  \n",
      "....................................................................................................\n",
      "Epoch: 2000, accuracy:0.6836,  binary_crossentropy:0.5683,  loss:0.5683,  val_accuracy:0.6800,  val_binary_crossentropy:0.5843,  val_loss:0.5843,  \n",
      "....................................................................................................\n",
      "Epoch: 2100, accuracy:0.6859,  binary_crossentropy:0.5674,  loss:0.5674,  val_accuracy:0.6770,  val_binary_crossentropy:0.5852,  val_loss:0.5852,  \n",
      "....................................................................................................\n",
      "Epoch: 2200, accuracy:0.6875,  binary_crossentropy:0.5669,  loss:0.5669,  val_accuracy:0.6760,  val_binary_crossentropy:0.5868,  val_loss:0.5868,  \n",
      "....................................................................................................\n",
      "Epoch: 2300, accuracy:0.6899,  binary_crossentropy:0.5658,  loss:0.5658,  val_accuracy:0.6820,  val_binary_crossentropy:0.5848,  val_loss:0.5848,  \n",
      "....................................................................................................\n",
      "Epoch: 2400, accuracy:0.6882,  binary_crossentropy:0.5655,  loss:0.5655,  val_accuracy:0.6870,  val_binary_crossentropy:0.5843,  val_loss:0.5843,  \n",
      "....................................................................................................\n",
      "Epoch: 2500, accuracy:0.6892,  binary_crossentropy:0.5647,  loss:0.5647,  val_accuracy:0.6870,  val_binary_crossentropy:0.5844,  val_loss:0.5844,  \n",
      "........."
     ]
    }
   ],
   "source": [
    "size_histories = {}\n",
    "\n",
    "size_histories['Tiny'] = compile_and_fit(tiny_model, 'sizes/Tiny')"
   ]
  },
  {
   "cell_type": "code",
   "execution_count": 28,
   "metadata": {},
   "outputs": [
    {
     "data": {
      "text/plain": [
       "(0.5, 0.7)"
      ]
     },
     "execution_count": 28,
     "metadata": {},
     "output_type": "execute_result"
    },
    {
     "data": {
      "image/png": "[encoded data removed]",
      "text/plain": [
       "<Figure size 432x288 with 1 Axes>"
      ]
     },
     "metadata": {
      "needs_background": "light"
     },
     "output_type": "display_data"
    }
   ],
   "source": [
    "plotter = tfdocs.plots.HistoryPlotter(metric = 'binary_crossentropy', smoothing_std=10)\n",
    "plotter.plot(size_histories)\n",
    "plt.ylim([0.5, 0.7])"
   ]
  },
  {
   "cell_type": "code",
   "execution_count": 29,
   "metadata": {},
   "outputs": [
    {
     "name": "stdout",
     "output_type": "stream",
     "text": [
      "Model: \"sequential_2\"\n",
      "_________________________________________________________________\n",
      " Layer (type)                Output Shape              Param #   \n",
      "=================================================================\n",
      " dense_4 (Dense)             (None, 64)                1856      \n",
      "                                                                 \n",
      " dense_5 (Dense)             (None, 64)                4160      \n",
      "                                                                 \n",
      " dense_6 (Dense)             (None, 64)                4160      \n",
      "                                                                 \n",
      " dense_7 (Dense)             (None, 1)                 65        \n",
      "                                                                 \n",
      "=================================================================\n",
      "Total params: 10,241\n",
      "Trainable params: 10,241\n",
      "Non-trainable params: 0\n",
      "_________________________________________________________________\n",
      "\n",
      "Epoch: 0, accuracy:0.4871,  binary_crossentropy:0.6951,  loss:0.6951,  val_accuracy:0.4890,  val_binary_crossentropy:0.6803,  val_loss:0.6803,  \n",
      "....................................................................................................\n",
      "Epoch: 100, accuracy:0.7101,  binary_crossentropy:0.5334,  loss:0.5334,  val_accuracy:0.6790,  val_binary_crossentropy:0.5947,  val_loss:0.5947,  \n",
      "....................................................................................................\n",
      "Epoch: 200, accuracy:0.7725,  binary_crossentropy:0.4530,  loss:0.4530,  val_accuracy:0.6440,  val_binary_crossentropy:0.6698,  val_loss:0.6698,  \n",
      "......................................................................."
     ]
    }
   ],
   "source": [
    "medium_model = tf.keras.Sequential([\n",
    "    layers.Dense(64, activation='elu', input_shape=(FEATURES,)),\n",
    "    layers.Dense(64, activation='elu'),\n",
    "    layers.Dense(64, activation='elu'),\n",
    "    layers.Dense(1)\n",
    "])\n",
    "\n",
    "size_histories['Medium']  = compile_and_fit(medium_model, \"sizes/Medium\")\n"
   ]
  },
  {
   "cell_type": "code",
   "execution_count": 30,
   "metadata": {},
   "outputs": [
    {
     "data": {
      "text/plain": [
       "(0.5, 0.7)"
      ]
     },
     "execution_count": 30,
     "metadata": {},
     "output_type": "execute_result"
    },
    {
     "data": {
      "image/png": "[encoded data removed]",
      "text/plain": [
       "<Figure size 432x288 with 1 Axes>"
      ]
     },
     "metadata": {
      "needs_background": "light"
     },
     "output_type": "display_data"
    }
   ],
   "source": [
    "plotter = tfdocs.plots.HistoryPlotter(metric = 'binary_crossentropy', smoothing_std=10)\n",
    "plotter.plot(size_histories)\n",
    "plt.ylim([0.5, 0.7])\n"
   ]
  },
  {
   "cell_type": "code",
   "execution_count": 32,
   "metadata": {},
   "outputs": [
    {
     "data": {
      "text/plain": [
       "WindowsPath('C:/Users/33623/AppData/Local/Temp/tmpqu1huyw4/tensorboard_logs/regularizers/Tiny')"
      ]
     },
     "execution_count": 32,
     "metadata": {},
     "output_type": "execute_result"
    }
   ],
   "source": [
    "shutil.rmtree(logdir/'regularizers/Tiny', ignore_errors=True)\n",
    "shutil.copytree(logdir/'sizes/Tiny', logdir/'regularizers/Tiny')"
   ]
  },
  {
   "cell_type": "code",
   "execution_count": 33,
   "metadata": {},
   "outputs": [
    {
     "ename": "NameError",
     "evalue": "name 'PosixPath' is not defined",
     "output_type": "error",
     "traceback": [
      "\u001b[1;31m---------------------------------------------------------------------------\u001b[0m",
      "\u001b[1;31mNameError\u001b[0m                                 Traceback (most recent call last)",
      "\u001b[1;32m<ipython-input-33-7683e3eee996>\u001b[0m in \u001b[0;36m<module>\u001b[1;34m\u001b[0m\n\u001b[1;32m----> 1\u001b[1;33m \u001b[0mPosixPath\u001b[0m\u001b[1;33m(\u001b[0m\u001b[1;34m'/tmp/tmpn1rdh98q/tensorboard_logs/regularizers/Tiny'\u001b[0m\u001b[1;33m)\u001b[0m\u001b[1;33m\u001b[0m\u001b[1;33m\u001b[0m\u001b[0m\n\u001b[0m\u001b[0;32m      2\u001b[0m \u001b[1;33m\u001b[0m\u001b[0m\n\u001b[0;32m      3\u001b[0m \u001b[0mregularizer_histories\u001b[0m \u001b[1;33m=\u001b[0m \u001b[1;33m{\u001b[0m\u001b[1;33m}\u001b[0m\u001b[1;33m\u001b[0m\u001b[1;33m\u001b[0m\u001b[0m\n\u001b[0;32m      4\u001b[0m \u001b[0mregularizer_histories\u001b[0m\u001b[1;33m[\u001b[0m\u001b[1;34m'Tiny'\u001b[0m\u001b[1;33m]\u001b[0m \u001b[1;33m=\u001b[0m \u001b[0msize_histories\u001b[0m\u001b[1;33m[\u001b[0m\u001b[1;34m'Tiny'\u001b[0m\u001b[1;33m]\u001b[0m\u001b[1;33m\u001b[0m\u001b[1;33m\u001b[0m\u001b[0m\n",
      "\u001b[1;31mNameError\u001b[0m: name 'PosixPath' is not defined"
     ]
    }
   ],
   "source": [
    "PosixPath('/tmp/tmpn1rdh98q/tensorboard_logs/regularizers/Tiny')\n",
    "\n",
    "regularizer_histories = {}\n",
    "regularizer_histories['Tiny'] = size_histories['Tiny']"
   ]
  },
  {
   "cell_type": "code",
   "execution_count": 34,
   "metadata": {},
   "outputs": [
    {
     "name": "stdout",
     "output_type": "stream",
     "text": [
      "Model: \"sequential_3\"\n",
      "_________________________________________________________________\n",
      " Layer (type)                Output Shape              Param #   \n",
      "=================================================================\n",
      " dense_8 (Dense)             (None, 512)               14848     \n",
      "                                                                 \n",
      " dense_9 (Dense)             (None, 512)               262656    \n",
      "                                                                 \n",
      " dense_10 (Dense)            (None, 512)               262656    \n",
      "                                                                 \n",
      " dense_11 (Dense)            (None, 512)               262656    \n",
      "                                                                 \n",
      " dense_12 (Dense)            (None, 1)                 513       \n",
      "                                                                 \n",
      "=================================================================\n",
      "Total params: 803,329\n",
      "Trainable params: 803,329\n",
      "Non-trainable params: 0\n",
      "_________________________________________________________________\n",
      "\n",
      "Epoch: 0, accuracy:0.5078,  binary_crossentropy:0.7535,  loss:2.2498,  val_accuracy:0.5440,  val_binary_crossentropy:0.6711,  val_loss:2.0694,  \n",
      "....................................................................................................\n",
      "Epoch: 100, accuracy:0.6469,  binary_crossentropy:0.6036,  loss:0.6264,  val_accuracy:0.6670,  val_binary_crossentropy:0.5803,  val_loss:0.6029,  \n",
      "....................................................................................................\n",
      "Epoch: 200, accuracy:0.6750,  binary_crossentropy:0.5839,  loss:0.6058,  val_accuracy:0.6520,  val_binary_crossentropy:0.5852,  val_loss:0.6070,  \n",
      "....................................................................................................\n",
      "Epoch: 300, accuracy:0.6859,  binary_crossentropy:0.5733,  loss:0.5956,  val_accuracy:0.6630,  val_binary_crossentropy:0.5765,  val_loss:0.5987,  \n",
      "....................................................................................................\n",
      "Epoch: 400, accuracy:0.6897,  binary_crossentropy:0.5679,  loss:0.5915,  val_accuracy:0.6560,  val_binary_crossentropy:0.5853,  val_loss:0.6088,  \n",
      "....................................................................................................\n",
      "Epoch: 500, accuracy:0.6913,  binary_crossentropy:0.5651,  loss:0.5913,  val_accuracy:0.6570,  val_binary_crossentropy:0.5971,  val_loss:0.6233,  \n",
      "....................................................................................................\n",
      "Epoch: 600, accuracy:0.6994,  binary_crossentropy:0.5508,  loss:0.5784,  val_accuracy:0.6820,  val_binary_crossentropy:0.5820,  val_loss:0.6090,  \n",
      "....................................................................................................\n",
      "Epoch: 700, accuracy:0.7082,  binary_crossentropy:0.5423,  loss:0.5703,  val_accuracy:0.6770,  val_binary_crossentropy:0.5744,  val_loss:0.6025,  \n",
      "....................................................................................................\n",
      "Epoch: 800, accuracy:0.7093,  binary_crossentropy:0.5392,  loss:0.5675,  val_accuracy:0.6930,  val_binary_crossentropy:0.5781,  val_loss:0.6064,  \n",
      "....................................................................................................\n",
      "Epoch: 900, accuracy:0.7117,  binary_crossentropy:0.5392,  loss:0.5699,  val_accuracy:0.6930,  val_binary_crossentropy:0.5734,  val_loss:0.6036,  \n",
      "....."
     ]
    },
    {
     "ename": "NameError",
     "evalue": "name 'regularizer_histories' is not defined",
     "output_type": "error",
     "traceback": [
      "\u001b[1;31m---------------------------------------------------------------------------\u001b[0m",
      "\u001b[1;31mNameError\u001b[0m                                 Traceback (most recent call last)",
      "\u001b[1;32m<ipython-input-34-4f39d82a9abe>\u001b[0m in \u001b[0;36m<module>\u001b[1;34m\u001b[0m\n\u001b[0;32m     12\u001b[0m ])\n\u001b[0;32m     13\u001b[0m \u001b[1;33m\u001b[0m\u001b[0m\n\u001b[1;32m---> 14\u001b[1;33m \u001b[0mregularizer_histories\u001b[0m\u001b[1;33m[\u001b[0m\u001b[1;34m'l2'\u001b[0m\u001b[1;33m]\u001b[0m \u001b[1;33m=\u001b[0m \u001b[0mcompile_and_fit\u001b[0m\u001b[1;33m(\u001b[0m\u001b[0ml2_model\u001b[0m\u001b[1;33m,\u001b[0m \u001b[1;34m\"regularizers/l2\"\u001b[0m\u001b[1;33m)\u001b[0m\u001b[1;33m\u001b[0m\u001b[1;33m\u001b[0m\u001b[0m\n\u001b[0m",
      "\u001b[1;31mNameError\u001b[0m: name 'regularizer_histories' is not defined"
     ]
    }
   ],
   "source": [
    "l2_model = tf.keras.Sequential([\n",
    "    layers.Dense(512, activation='elu',\n",
    "                 kernel_regularizer=regularizers.l2(0.001),\n",
    "                 input_shape=(FEATURES,)),\n",
    "    layers.Dense(512, activation='elu',\n",
    "                 kernel_regularizer=regularizers.l2(0.001)),\n",
    "    layers.Dense(512, activation='elu',\n",
    "                 kernel_regularizer=regularizers.l2(0.001)),\n",
    "    layers.Dense(512, activation='elu',\n",
    "                 kernel_regularizer=regularizers.l2(0.001)),\n",
    "    layers.Dense(1)\n",
    "])\n",
    "\n",
    "regularizer_histories['l2'] = compile_and_fit(l2_model, \"regularizers/l2\")"
   ]
  }
 ],
 "metadata": {
  "kernelspec": {
   "display_name": "Python 3",
   "language": "python",
   "name": "python3"
  },
  "language_info": {
   "codemirror_mode": {
    "name": "ipython",
    "version": 3
   },
   "file_extension": ".py",
   "mimetype": "text/x-python",
   "name": "python",
   "nbconvert_exporter": "python",
   "pygments_lexer": "ipython3",
   "version": "3.9.1"
  },
  "orig_nbformat": 4,
  "vscode": {
   "interpreter": {
    "hash": "81794d4967e6c3204c66dcd87b604927b115b27c00565d3d43f05ba2f3a2cb0d"
   }
  }
 },
 "nbformat": 4,
 "nbformat_minor": 2
}
