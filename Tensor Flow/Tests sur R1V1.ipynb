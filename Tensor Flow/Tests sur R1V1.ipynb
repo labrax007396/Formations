{
 "cells": [
  {
   "cell_type": "code",
   "execution_count": 4,
   "metadata": {},
   "outputs": [],
   "source": [
    "\n",
    "import commentjson\n",
    "import os\n",
    "#os.chdir('/mnt/batch/tasks/shared/LS_root/mounts/clusters/pythonnb/code/Users/david.mouquet/modeling')\n",
    "\n",
    "\n",
    "import missingno as msno\n",
    "import sys\n",
    "import importlib\n",
    "import pandas as pd\n",
    "import math\n",
    "import datetime\n",
    "\n",
    "sys.path.append(\"../../SRC/\")\n",
    "\n",
    "import importFromUV as preprocdata\n",
    "importlib.reload(preprocdata)\n",
    "from sklearn.metrics import r2_score\n"
   ]
  },
  {
   "cell_type": "code",
   "execution_count": 5,
   "metadata": {},
   "outputs": [],
   "source": [
    "file_model_param   = \"../../MODELISATION/models_param/TCC-DK-Elec-Mop.json\"\n",
    "\n",
    "model_id           = \"R1V1_2022_Facteurs_Leviers\"\n",
    "site               = \"DK-TCC\"\n",
    "\n",
    "\n",
    "dir_models  = \"C:/Users/33623/Dropbox (Ultiwatt)/D - ULTIVISION INDUSTRIES/4-ARCELORMITTAL/2- DEPLOIEMENT AMF/2-Projet LOT 2/10-Models/\"\n",
    "dir_result  = dir_models + site + \"/\" + model_id \n",
    "model_name  = dir_result + \"/\" + \"model.pkl\"\n",
    "\n",
    "\n",
    "\n",
    "isExist = os.path.exists(dir_result)\n",
    "\n",
    "if not isExist:\n",
    "  # Create a new directory because it does not exist \n",
    "  os.mkdir(dir_result)\n",
    "\n",
    "###############################################################\n",
    "\n",
    "with open(file_model_param, encoding='utf-8') as file:\n",
    "    dico_model_all = commentjson.load(file)\n",
    "\n",
    "dico_model = dico_model_all[model_id]\n",
    "\n",
    "\n",
    "\n",
    "#pkl_model_name      = \"resu/models/\"+model_id+\"_\"+ dico_model['type_model'] + \"_\" +dico_model['freq']+\".pkl\"\n",
    "\n",
    "onnx_model_name     = dico_model['mangling']+\".\"+model_id+\".onnx\"\n",
    "nom_model_registre  = dico_model['nom_model_registre']\n",
    "freq                = dico_model['freq']\n",
    "uv_mangling         = dico_model['mangling']\n",
    "nom_data_store      = dico_model['data_store']\n",
    "\n",
    "\n",
    "ref_periode_debut = datetime.datetime.strptime(dico_model['ref_periode_debut'], '%d/%m/%Y %H:%M:%S').isoformat()\n",
    "ref_periode_fin   = datetime.datetime.strptime(dico_model['ref_periode_fin'], '%d/%m/%Y %H:%M:%S').isoformat()"
   ]
  },
  {
   "cell_type": "code",
   "execution_count": 6,
   "metadata": {},
   "outputs": [
    {
     "name": "stdout",
     "output_type": "stream",
     "text": [
      "import du tag: tag_4278\n",
      "import du tag: tag_10260\n",
      "import du tag: tag_10261\n",
      "import du tag: tag_3359\n",
      "import du tag: tag_3361\n",
      "import du tag: tag_35633\n",
      "import du tag: tag_3931\n",
      "import du tag: tag_9323\n",
      "import du tag: tag_3928\n"
     ]
    }
   ],
   "source": [
    "data, clean_report = preprocdata.Charger_Preparer_Data(ref_periode_debut = ref_periode_debut, \n",
    "                                         ref_periode_fin   = ref_periode_fin,\n",
    "                                         ipe_tag           = dico_model[\"tag_modelise\"],\n",
    "                                         dico_du_model     = dico_model,\n",
    "                                         use_seuil_min     = True,\n",
    "                                         use_seuil_max     = True,\n",
    "                                         clean_data        = False,\n",
    "                                         concat_after      = True,\n",
    "                                         load_unused_feature = True,\n",
    "                                         zscore            = 3)"
   ]
  },
  {
   "cell_type": "code",
   "execution_count": 11,
   "metadata": {},
   "outputs": [],
   "source": [
    "import numpy as np\n",
    "\n",
    "# Make numpy values easier to read.\n",
    "np.set_printoptions(precision=3, suppress=True)\n",
    "\n",
    "import tensorflow as tf\n",
    "from tensorflow.keras import layers"
   ]
  },
  {
   "attachments": {},
   "cell_type": "markdown",
   "metadata": {},
   "source": [
    "# Réseau de neuronnes"
   ]
  },
  {
   "attachments": {},
   "cell_type": "markdown",
   "metadata": {},
   "source": [
    "## définition du preprocesseur"
   ]
  },
  {
   "cell_type": "code",
   "execution_count": 93,
   "metadata": {},
   "outputs": [],
   "source": [
    "subdata = data.copy()\n",
    "\n",
    "\n",
    "features = subdata.copy()\n",
    "target   = features.pop('DK_TCC_Laminoir_R1V1_IPE_ELEC_EN_CHARGE_kWh_BOB')\n"
   ]
  },
  {
   "cell_type": "code",
   "execution_count": 94,
   "metadata": {},
   "outputs": [],
   "source": [
    "inputs = {}\n",
    "\n",
    "for name, column in features.items():\n",
    "  dtype = column.dtype\n",
    "  if dtype == object:\n",
    "    dtype = tf.string\n",
    "  else:\n",
    "    dtype = tf.float32\n",
    "\n",
    "  inputs[name] = tf.keras.Input(shape=(1,), name=name, dtype=dtype)"
   ]
  },
  {
   "cell_type": "code",
   "execution_count": 95,
   "metadata": {},
   "outputs": [],
   "source": [
    "numeric_inputs = {name:input for name,input in inputs.items()\n",
    "                  if input.dtype==tf.float32}\n",
    "\n",
    "x = layers.Concatenate()(list(numeric_inputs.values()))\n",
    "norm = layers.Normalization()\n",
    "norm.adapt(np.array(subdata[numeric_inputs.keys()]))\n",
    "all_numeric_inputs = norm(x)\n"
   ]
  },
  {
   "cell_type": "code",
   "execution_count": 96,
   "metadata": {},
   "outputs": [],
   "source": [
    "preprocessed_inputs = [all_numeric_inputs]"
   ]
  },
  {
   "cell_type": "code",
   "execution_count": 97,
   "metadata": {},
   "outputs": [
    {
     "name": "stdout",
     "output_type": "stream",
     "text": [
      "WARNING:tensorflow:vocab_size is deprecated, please use vocabulary_size.\n",
      "WARNING:tensorflow:max_tokens is deprecated, please use num_tokens instead.\n"
     ]
    }
   ],
   "source": [
    "for name, input in inputs.items():\n",
    "  if input.dtype == tf.float32:\n",
    "    continue\n",
    "\n",
    "  lookup = layers.StringLookup(vocabulary=np.unique(features[name]))\n",
    "  one_hot = layers.CategoryEncoding(max_tokens=lookup.vocab_size())\n",
    "\n",
    "  x = lookup(input)\n",
    "  x = one_hot(x)\n",
    "  preprocessed_inputs.append(x)"
   ]
  },
  {
   "cell_type": "code",
   "execution_count": 98,
   "metadata": {},
   "outputs": [
    {
     "data": {
      "text/plain": [
       "[<KerasTensor: shape=(None, 7) dtype=float32 (created by layer 'normalization_5')>,\n",
       " <KerasTensor: shape=(None, 45) dtype=float32 (created by layer 'category_encoding_3')>]"
      ]
     },
     "execution_count": 98,
     "metadata": {},
     "output_type": "execute_result"
    }
   ],
   "source": [
    "preprocessed_inputs"
   ]
  },
  {
   "cell_type": "code",
   "execution_count": 99,
   "metadata": {},
   "outputs": [],
   "source": [
    "preprocessed_inputs_cat = layers.Concatenate()(preprocessed_inputs)\n",
    "model_preprocessing = tf.keras.Model(inputs, preprocessed_inputs_cat)"
   ]
  },
  {
   "cell_type": "code",
   "execution_count": 100,
   "metadata": {},
   "outputs": [],
   "source": [
    "features_dict = {name: np.array(value) \n",
    "                         for name, value in features.items()}"
   ]
  },
  {
   "cell_type": "code",
   "execution_count": 101,
   "metadata": {},
   "outputs": [
    {
     "data": {
      "text/plain": [
       "<tf.Tensor: shape=(280159, 52), dtype=float32, numpy=\n",
       "array([[ 0.013, -1.376, -1.647, ...,  0.   ,  0.   ,  0.   ],\n",
       "       [-0.375, -1.376, -1.647, ...,  0.   ,  0.   ,  0.   ],\n",
       "       [-0.325,  0.546,  0.604, ...,  0.   ,  0.   ,  0.   ],\n",
       "       ...,\n",
       "       [-0.108, -1.085, -1.647, ...,  0.   ,  0.   ,  0.   ],\n",
       "       [-0.266,  0.464,  0.604, ...,  0.   ,  0.   ,  0.   ],\n",
       "       [-0.266,  0.48 ,  0.604, ...,  0.   ,  0.   ,  0.   ]],\n",
       "      dtype=float32)>"
      ]
     },
     "execution_count": 101,
     "metadata": {},
     "output_type": "execute_result"
    }
   ],
   "source": [
    "model_preprocessing(features_dict)"
   ]
  },
  {
   "attachments": {},
   "cell_type": "markdown",
   "metadata": {},
   "source": [
    "## construction du modèle"
   ]
  },
  {
   "cell_type": "code",
   "execution_count": 102,
   "metadata": {},
   "outputs": [],
   "source": [
    "def build_model(preprocessing_head, inputs):\n",
    "  body = tf.keras.Sequential([\n",
    "    layers.Dense(64, activation='relu'),\n",
    "    layers.Dense(1)\n",
    "  ])\n",
    "\n",
    "  preprocessed_inputs = preprocessing_head(inputs)\n",
    "  result = body(preprocessed_inputs)\n",
    "  model = tf.keras.Model(inputs, result)\n",
    "\n",
    "  model.compile(loss='mean_absolute_error',\n",
    "                optimizer=tf.keras.optimizers.Adam(0.001))\n",
    "  return model\n"
   ]
  },
  {
   "cell_type": "code",
   "execution_count": 103,
   "metadata": {},
   "outputs": [],
   "source": [
    "final_model = build_model(model_preprocessing, inputs)"
   ]
  },
  {
   "cell_type": "code",
   "execution_count": 104,
   "metadata": {},
   "outputs": [
    {
     "name": "stdout",
     "output_type": "stream",
     "text": [
      "Epoch 1/20\n",
      "7004/7004 [==============================] - 13s 2ms/step - loss: 5.5045 - val_loss: 2.8671\n",
      "Epoch 2/20\n",
      "7004/7004 [==============================] - 12s 2ms/step - loss: 2.7404 - val_loss: 2.7811\n",
      "Epoch 3/20\n",
      "7004/7004 [==============================] - 12s 2ms/step - loss: 2.6841 - val_loss: 2.7687\n",
      "Epoch 4/20\n",
      "7004/7004 [==============================] - 12s 2ms/step - loss: 2.6587 - val_loss: 2.7259\n",
      "Epoch 5/20\n",
      "7004/7004 [==============================] - 12s 2ms/step - loss: 2.6399 - val_loss: 2.6919\n",
      "Epoch 6/20\n",
      "7004/7004 [==============================] - 12s 2ms/step - loss: 2.6281 - val_loss: 2.6814\n",
      "Epoch 7/20\n",
      "7004/7004 [==============================] - 12s 2ms/step - loss: 2.6197 - val_loss: 2.7077\n",
      "Epoch 8/20\n",
      "7004/7004 [==============================] - 12s 2ms/step - loss: 2.6124 - val_loss: 2.6989\n",
      "Epoch 9/20\n",
      "7004/7004 [==============================] - 12s 2ms/step - loss: 2.6054 - val_loss: 2.6792\n",
      "Epoch 10/20\n",
      "7004/7004 [==============================] - 12s 2ms/step - loss: 2.6014 - val_loss: 2.6950\n",
      "Epoch 11/20\n",
      "7004/7004 [==============================] - 12s 2ms/step - loss: 2.5931 - val_loss: 2.6907\n",
      "Epoch 12/20\n",
      "7004/7004 [==============================] - 12s 2ms/step - loss: 2.5906 - val_loss: 2.6729\n",
      "Epoch 13/20\n",
      "7004/7004 [==============================] - 12s 2ms/step - loss: 2.5876 - val_loss: 2.6740\n",
      "Epoch 14/20\n",
      "7004/7004 [==============================] - 12s 2ms/step - loss: 2.5846 - val_loss: 2.6428\n",
      "Epoch 15/20\n",
      "7004/7004 [==============================] - 12s 2ms/step - loss: 2.5816 - val_loss: 2.6441\n",
      "Epoch 16/20\n",
      "7004/7004 [==============================] - 11s 2ms/step - loss: 2.5805 - val_loss: 2.6595\n",
      "Epoch 17/20\n",
      "7004/7004 [==============================] - 12s 2ms/step - loss: 2.5784 - val_loss: 2.6899\n",
      "Epoch 18/20\n",
      "7004/7004 [==============================] - 12s 2ms/step - loss: 2.5773 - val_loss: 2.6604\n",
      "Epoch 19/20\n",
      "7004/7004 [==============================] - 11s 2ms/step - loss: 2.5739 - val_loss: 2.6310\n",
      "Epoch 20/20\n",
      "7004/7004 [==============================] - 11s 2ms/step - loss: 2.5738 - val_loss: 2.6320\n"
     ]
    }
   ],
   "source": [
    "history = final_model.fit(x=features_dict, y=target, epochs=20,validation_split=0.2)"
   ]
  },
  {
   "cell_type": "code",
   "execution_count": 87,
   "metadata": {},
   "outputs": [],
   "source": [
    "def plot_loss(history):\n",
    "  import matplotlib.pyplot as plt\n",
    "  plt.plot(history.history['loss'], label='loss')\n",
    "  plt.plot(history.history['val_loss'], label='val_loss')\n",
    "  plt.ylim([0, 10])\n",
    "  plt.xlabel('Epoch')\n",
    "  plt.ylabel('Error')\n",
    "  plt.legend()\n",
    "  plt.grid(True)"
   ]
  },
  {
   "cell_type": "code",
   "execution_count": 105,
   "metadata": {},
   "outputs": [
    {
     "data": {
      "image/png": "[encoded data removed]",
      "text/plain": [
       "<Figure size 432x288 with 1 Axes>"
      ]
     },
     "metadata": {
      "needs_background": "light"
     },
     "output_type": "display_data"
    }
   ],
   "source": [
    "plot_loss(history)"
   ]
  },
  {
   "cell_type": "code",
   "execution_count": 106,
   "metadata": {},
   "outputs": [
    {
     "name": "stdout",
     "output_type": "stream",
     "text": [
      "8755/8755 [==============================] - 12s 1ms/step\n"
     ]
    }
   ],
   "source": [
    "test_predictions = final_model.predict(features_dict).flatten()"
   ]
  },
  {
   "cell_type": "code",
   "execution_count": 107,
   "metadata": {},
   "outputs": [
    {
     "data": {
      "text/plain": [
       "array([26.246, 22.442, 71.341, ..., 25.733, 48.52 , 52.172], dtype=float32)"
      ]
     },
     "execution_count": 107,
     "metadata": {},
     "output_type": "execute_result"
    }
   ],
   "source": [
    "test_predictions"
   ]
  },
  {
   "cell_type": "code",
   "execution_count": 109,
   "metadata": {},
   "outputs": [
    {
     "data": {
      "text/plain": [
       "0.9549839601612287"
      ]
     },
     "execution_count": 109,
     "metadata": {},
     "output_type": "execute_result"
    }
   ],
   "source": [
    "r2_score(target.values,test_predictions)"
   ]
  },
  {
   "attachments": {},
   "cell_type": "markdown",
   "metadata": {},
   "source": [
    "## Export au format ONNX"
   ]
  },
  {
   "cell_type": "code",
   "execution_count": 110,
   "metadata": {},
   "outputs": [
    {
     "name": "stderr",
     "output_type": "stream",
     "text": [
      "WARNING:absl:Function `_wrapped_model` contains input name(s) Code_Metal, D_NBPASSE, LARG_BRAME_THEOR, Longueur_Brame, R1V1_Refoulement, R1V1_Taux_reduction_epaisseur, Tps_Entree_TCC_Sortie_R1V1 with unsupported characters which will be renamed to code_metal, d_nbpasse, larg_brame_theor, longueur_brame, r1v1_refoulement, r1v1_taux_reduction_epaisseur, tps_entree_tcc_sortie_r1v1 in the SavedModel.\n",
      "WARNING:absl:Found untraced functions such as _update_step_xla while saving (showing 1 of 1). These functions will not be directly callable after loading.\n"
     ]
    },
    {
     "name": "stdout",
     "output_type": "stream",
     "text": [
      "INFO:tensorflow:Assets written to: model_ts\\assets\n"
     ]
    },
    {
     "name": "stderr",
     "output_type": "stream",
     "text": [
      "INFO:tensorflow:Assets written to: model_ts\\assets\n"
     ]
    }
   ],
   "source": [
    "final_model.save('model_ts')"
   ]
  },
  {
   "cell_type": "code",
   "execution_count": null,
   "metadata": {},
   "outputs": [],
   "source": [
    "import tensorflow as tf\n",
    "import tf2onnx\n",
    "\n",
    "model = tf.keras.models.load_model('model_ts')\n",
    "\n",
    "tf2onnx.convert.from_keras(model, output_path='model_R1V1_ts_test.onnx')"
   ]
  },
  {
   "attachments": {},
   "cell_type": "markdown",
   "metadata": {},
   "source": [
    "# Gradient Boost tree"
   ]
  },
  {
   "cell_type": "code",
   "execution_count": 113,
   "metadata": {},
   "outputs": [
    {
     "data": {
      "text/html": [
       "<div>\n",
       "<style scoped>\n",
       "    .dataframe tbody tr th:only-of-type {\n",
       "        vertical-align: middle;\n",
       "    }\n",
       "\n",
       "    .dataframe tbody tr th {\n",
       "        vertical-align: top;\n",
       "    }\n",
       "\n",
       "    .dataframe thead th {\n",
       "        text-align: right;\n",
       "    }\n",
       "</style>\n",
       "<table border=\"1\" class=\"dataframe\">\n",
       "  <thead>\n",
       "    <tr style=\"text-align: right;\">\n",
       "      <th></th>\n",
       "      <th>DK_TCC_Laminoir_R1V1_IPE_ELEC_EN_CHARGE_kWh_BOB</th>\n",
       "      <th>R1V1_Taux_reduction_epaisseur</th>\n",
       "      <th>R1V1_Refoulement</th>\n",
       "      <th>Code_Metal</th>\n",
       "      <th>D_NBPASSE</th>\n",
       "      <th>Tps_Entree_TCC_Sortie_R1V1</th>\n",
       "      <th>LARG_BRAME_THEOR</th>\n",
       "      <th>teta_moy_v1r1</th>\n",
       "      <th>Longueur_Brame</th>\n",
       "    </tr>\n",
       "    <tr>\n",
       "      <th>Date</th>\n",
       "      <th></th>\n",
       "      <th></th>\n",
       "      <th></th>\n",
       "      <th></th>\n",
       "      <th></th>\n",
       "      <th></th>\n",
       "      <th></th>\n",
       "      <th></th>\n",
       "      <th></th>\n",
       "    </tr>\n",
       "  </thead>\n",
       "  <tbody>\n",
       "    <tr>\n",
       "      <th>2021-01-02 07:09:01</th>\n",
       "      <td>20.422205</td>\n",
       "      <td>20.922974</td>\n",
       "      <td>0.000000</td>\n",
       "      <td>1</td>\n",
       "      <td>1.0</td>\n",
       "      <td>31.049664</td>\n",
       "      <td>1200.947021</td>\n",
       "      <td>1176.389160</td>\n",
       "      <td>9.695</td>\n",
       "    </tr>\n",
       "    <tr>\n",
       "      <th>2021-01-02 07:14:59</th>\n",
       "      <td>17.806858</td>\n",
       "      <td>20.094247</td>\n",
       "      <td>0.000000</td>\n",
       "      <td>1</td>\n",
       "      <td>1.0</td>\n",
       "      <td>29.648962</td>\n",
       "      <td>1201.945068</td>\n",
       "      <td>1195.322998</td>\n",
       "      <td>8.575</td>\n",
       "    </tr>\n",
       "    <tr>\n",
       "      <th>2021-01-02 07:17:19</th>\n",
       "      <td>65.539217</td>\n",
       "      <td>20.201968</td>\n",
       "      <td>134.161377</td>\n",
       "      <td>4</td>\n",
       "      <td>3.0</td>\n",
       "      <td>80.729557</td>\n",
       "      <td>1438.000000</td>\n",
       "      <td>1148.741943</td>\n",
       "      <td>8.375</td>\n",
       "    </tr>\n",
       "    <tr>\n",
       "      <th>2021-01-02 07:21:15</th>\n",
       "      <td>36.818706</td>\n",
       "      <td>20.322960</td>\n",
       "      <td>57.334839</td>\n",
       "      <td>4</td>\n",
       "      <td>3.0</td>\n",
       "      <td>80.288519</td>\n",
       "      <td>1438.000000</td>\n",
       "      <td>1187.278564</td>\n",
       "      <td>8.375</td>\n",
       "    </tr>\n",
       "    <tr>\n",
       "      <th>2021-01-02 07:23:57</th>\n",
       "      <td>41.417185</td>\n",
       "      <td>20.475834</td>\n",
       "      <td>40.297974</td>\n",
       "      <td>33</td>\n",
       "      <td>1.0</td>\n",
       "      <td>34.272558</td>\n",
       "      <td>1440.000000</td>\n",
       "      <td>1204.938721</td>\n",
       "      <td>9.500</td>\n",
       "    </tr>\n",
       "  </tbody>\n",
       "</table>\n",
       "</div>"
      ],
      "text/plain": [
       "                     DK_TCC_Laminoir_R1V1_IPE_ELEC_EN_CHARGE_kWh_BOB  \\\n",
       "Date                                                                   \n",
       "2021-01-02 07:09:01                                        20.422205   \n",
       "2021-01-02 07:14:59                                        17.806858   \n",
       "2021-01-02 07:17:19                                        65.539217   \n",
       "2021-01-02 07:21:15                                        36.818706   \n",
       "2021-01-02 07:23:57                                        41.417185   \n",
       "\n",
       "                     R1V1_Taux_reduction_epaisseur  R1V1_Refoulement  \\\n",
       "Date                                                                   \n",
       "2021-01-02 07:09:01                      20.922974          0.000000   \n",
       "2021-01-02 07:14:59                      20.094247          0.000000   \n",
       "2021-01-02 07:17:19                      20.201968        134.161377   \n",
       "2021-01-02 07:21:15                      20.322960         57.334839   \n",
       "2021-01-02 07:23:57                      20.475834         40.297974   \n",
       "\n",
       "                    Code_Metal  D_NBPASSE  Tps_Entree_TCC_Sortie_R1V1  \\\n",
       "Date                                                                    \n",
       "2021-01-02 07:09:01          1        1.0                   31.049664   \n",
       "2021-01-02 07:14:59          1        1.0                   29.648962   \n",
       "2021-01-02 07:17:19          4        3.0                   80.729557   \n",
       "2021-01-02 07:21:15          4        3.0                   80.288519   \n",
       "2021-01-02 07:23:57         33        1.0                   34.272558   \n",
       "\n",
       "                     LARG_BRAME_THEOR  teta_moy_v1r1  Longueur_Brame  \n",
       "Date                                                                  \n",
       "2021-01-02 07:09:01       1200.947021    1176.389160           9.695  \n",
       "2021-01-02 07:14:59       1201.945068    1195.322998           8.575  \n",
       "2021-01-02 07:17:19       1438.000000    1148.741943           8.375  \n",
       "2021-01-02 07:21:15       1438.000000    1187.278564           8.375  \n",
       "2021-01-02 07:23:57       1440.000000    1204.938721           9.500  "
      ]
     },
     "execution_count": 113,
     "metadata": {},
     "output_type": "execute_result"
    }
   ],
   "source": [
    "data.head()"
   ]
  },
  {
   "cell_type": "code",
   "execution_count": 116,
   "metadata": {},
   "outputs": [],
   "source": [
    "dftrain = subdata.sample(frac=0.8, random_state=0)\n",
    "dfeval  = subdata.drop(dftrain.index)\n",
    "\n",
    "y_train = dftrain.pop('DK_TCC_Laminoir_R1V1_IPE_ELEC_EN_CHARGE_kWh_BOB')\n",
    "y_eval  = dfeval.pop('DK_TCC_Laminoir_R1V1_IPE_ELEC_EN_CHARGE_kWh_BOB')"
   ]
  },
  {
   "cell_type": "code",
   "execution_count": 118,
   "metadata": {},
   "outputs": [
    {
     "data": {
      "text/plain": [
       "Index(['R1V1_Taux_reduction_epaisseur', 'R1V1_Refoulement', 'Code_Metal',\n",
       "       'D_NBPASSE', 'Tps_Entree_TCC_Sortie_R1V1', 'LARG_BRAME_THEOR',\n",
       "       'teta_moy_v1r1', 'Longueur_Brame'],\n",
       "      dtype='object')"
      ]
     },
     "execution_count": 118,
     "metadata": {},
     "output_type": "execute_result"
    }
   ],
   "source": [
    "dftrain.columns"
   ]
  },
  {
   "cell_type": "code",
   "execution_count": 120,
   "metadata": {},
   "outputs": [],
   "source": [
    "fc = tf.feature_column\n",
    "\n",
    "CATEGORICAL_COLUMNS = ['Code_Metal']\n",
    "NUMERIC_COLUMNS     = ['R1V1_Taux_reduction_epaisseur', 'R1V1_Refoulement','D_NBPASSE', 'Tps_Entree_TCC_Sortie_R1V1', 'LARG_BRAME_THEOR','teta_moy_v1r1', 'Longueur_Brame']"
   ]
  },
  {
   "cell_type": "code",
   "execution_count": 121,
   "metadata": {},
   "outputs": [],
   "source": [
    "\n",
    "  \n",
    "def one_hot_cat_column(feature_name, vocab):\n",
    "  return tf.feature_column.indicator_column(\n",
    "      tf.feature_column.categorical_column_with_vocabulary_list(feature_name,\n",
    "                                                                vocab))\n",
    "feature_columns = []\n",
    "for feature_name in CATEGORICAL_COLUMNS:\n",
    "  # Need to one-hot encode categorical features.\n",
    "  vocabulary = dftrain[feature_name].unique()\n",
    "  feature_columns.append(one_hot_cat_column(feature_name, vocabulary))\n",
    "  \n",
    "for feature_name in NUMERIC_COLUMNS:\n",
    "  feature_columns.append(tf.feature_column.numeric_column(feature_name,\n",
    "                                                          dtype=tf.float32))"
   ]
  },
  {
   "cell_type": "code",
   "execution_count": 122,
   "metadata": {},
   "outputs": [],
   "source": [
    "NUM_EXAMPLES = len(y_train)\n",
    "\n",
    "def make_input_fn(X, y, n_epochs=None, shuffle=True):\n",
    "  def input_fn():\n",
    "    dataset = tf.data.Dataset.from_tensor_slices((dict(X), y))\n",
    "    if shuffle:\n",
    "      dataset = dataset.shuffle(NUM_EXAMPLES)\n",
    "    # For training, cycle thru dataset as many times as need (n_epochs=None).    \n",
    "    dataset = dataset.repeat(n_epochs)\n",
    "    # In memory training doesn't use batching.\n",
    "    dataset = dataset.batch(NUM_EXAMPLES)\n",
    "    return dataset\n",
    "  return input_fn\n",
    "\n",
    "# Training and evaluation input functions.\n",
    "train_input_fn = make_input_fn(dftrain, y_train)\n",
    "eval_input_fn = make_input_fn(dfeval, y_eval, shuffle=False, n_epochs=1)"
   ]
  },
  {
   "cell_type": "code",
   "execution_count": null,
   "metadata": {},
   "outputs": [],
   "source": [
    "tf.estimator.Booste"
   ]
  },
  {
   "cell_type": "code",
   "execution_count": 123,
   "metadata": {},
   "outputs": [
    {
     "ename": "AttributeError",
     "evalue": "module 'tensorflow_estimator.python.estimator.api._v2.estimator' has no attribute 'BoostedTreesClassifier'",
     "output_type": "error",
     "traceback": [
      "\u001b[1;31m---------------------------------------------------------------------------\u001b[0m",
      "\u001b[1;31mAttributeError\u001b[0m                            Traceback (most recent call last)",
      "\u001b[1;32m<ipython-input-123-bd9535dc186e>\u001b[0m in \u001b[0;36m<module>\u001b[1;34m\u001b[0m\n\u001b[0;32m      2\u001b[0m \u001b[1;31m# Above one batch is defined as the entire dataset.\u001b[0m\u001b[1;33m\u001b[0m\u001b[1;33m\u001b[0m\u001b[1;33m\u001b[0m\u001b[0m\n\u001b[0;32m      3\u001b[0m \u001b[0mn_batches\u001b[0m \u001b[1;33m=\u001b[0m \u001b[1;36m1\u001b[0m\u001b[1;33m\u001b[0m\u001b[1;33m\u001b[0m\u001b[0m\n\u001b[1;32m----> 4\u001b[1;33m est = tf.estimator.BoostedTreesClassifier(feature_columns,\n\u001b[0m\u001b[0;32m      5\u001b[0m                                           n_batches_per_layer=n_batches)\n\u001b[0;32m      6\u001b[0m \u001b[1;33m\u001b[0m\u001b[0m\n",
      "\u001b[1;31mAttributeError\u001b[0m: module 'tensorflow_estimator.python.estimator.api._v2.estimator' has no attribute 'BoostedTreesClassifier'"
     ]
    }
   ],
   "source": [
    "# Since data fits into memory, use entire dataset per layer. It will be faster.\n",
    "# Above one batch is defined as the entire dataset. \n",
    "n_batches = 1\n",
    "est = tf.estimator.BoostedTreesClassifier(feature_columns,\n",
    "                                          n_batches_per_layer=n_batches)\n",
    "\n",
    "# The model will stop training once the specified number of trees is built, not \n",
    "# based on the number of steps.\n",
    "est.train(train_input_fn, max_steps=100)\n",
    "\n",
    "# Eval.\n",
    "result = est.evaluate(eval_input_fn)"
   ]
  },
  {
   "cell_type": "code",
   "execution_count": null,
   "metadata": {},
   "outputs": [],
   "source": []
  },
  {
   "cell_type": "code",
   "execution_count": null,
   "metadata": {},
   "outputs": [],
   "source": []
  },
  {
   "cell_type": "markdown",
   "metadata": {},
   "source": []
  },
  {
   "cell_type": "code",
   "execution_count": null,
   "metadata": {},
   "outputs": [],
   "source": []
  }
 ],
 "metadata": {
  "kernelspec": {
   "display_name": "Python 3",
   "language": "python",
   "name": "python3"
  },
  "language_info": {
   "codemirror_mode": {
    "name": "ipython",
    "version": 3
   },
   "file_extension": ".py",
   "mimetype": "text/x-python",
   "name": "python",
   "nbconvert_exporter": "python",
   "pygments_lexer": "ipython3",
   "version": "3.9.1"
  },
  "orig_nbformat": 4,
  "vscode": {
   "interpreter": {
    "hash": "81794d4967e6c3204c66dcd87b604927b115b27c00565d3d43f05ba2f3a2cb0d"
   }
  }
 },
 "nbformat": 4,
 "nbformat_minor": 2
}
