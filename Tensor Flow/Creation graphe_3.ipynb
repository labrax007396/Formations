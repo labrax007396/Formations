{
 "cells": [
  {
   "cell_type": "code",
   "execution_count": 2,
   "metadata": {},
   "outputs": [],
   "source": [
    "import tensorflow as tf\n"
   ]
  },
  {
   "attachments": {},
   "cell_type": "markdown",
   "metadata": {},
   "source": [
    "## Ex1"
   ]
  },
  {
   "cell_type": "code",
   "execution_count": 38,
   "metadata": {},
   "outputs": [],
   "source": [
    "class AddSommeLayers(tf.keras.layers.Layer):\n",
    "  # Adding **kwargs to support base Keras layer arguments\n",
    "  def __init__(self, **kwargs):\n",
    "    super().__init__(**kwargs)\n",
    "\n",
    "  def call(self, x, y):\n",
    "    z = tf.add(x,y)\n",
    "    return z\n",
    "\n",
    "#simple_layer = MyDense(name=\"simple\", in_features=3, out_features=3)"
   ]
  },
  {
   "cell_type": "code",
   "execution_count": 39,
   "metadata": {},
   "outputs": [],
   "source": [
    "simple_layer = AddSommeLayers(name=\"Score\")\n",
    "import numpy as np\n",
    "inputs = {}\n",
    "\n",
    "inputs['entree1'] = tf.keras.Input(shape=(1,), name='entree1', dtype=np.float32)\n",
    "inputs['entree2'] = tf.keras.Input(shape=(1,), name='entree2', dtype=np.float32)\n",
    "\n",
    "resu = simple_layer(inputs['entree1'],inputs['entree2'])\n",
    "\n",
    "\n",
    "my_functional_model = tf.keras.Model(inputs=inputs, outputs=resu)\n",
    "\n",
    "my_functional_model.summary()"
   ]
  },
  {
   "cell_type": "code",
   "execution_count": 26,
   "metadata": {},
   "outputs": [
    {
     "name": "stdout",
     "output_type": "stream",
     "text": [
      "WARNING:tensorflow:Compiled the loaded model, but the compiled metrics have yet to be built. `model.compile_metrics` will be empty until you train or evaluate the model.\n",
      "INFO:tensorflow:Assets written to: my_functional_model\\assets\n"
     ]
    }
   ],
   "source": [
    "my_functional_model.save('my_functional_model')\n",
    "import tensorflow as tf\n",
    "import tf2onnx\n",
    "\n",
    "model = tf.keras.models.load_model('my_functional_model')\n",
    "\n",
    "tf2onnx.convert.from_keras(model, output_path='my_functional_model.onnx')"
   ]
  },
  {
   "attachments": {},
   "cell_type": "markdown",
   "metadata": {},
   "source": [
    "## Ex2"
   ]
  },
  {
   "cell_type": "code",
   "execution_count": 46,
   "metadata": {},
   "outputs": [],
   "source": [
    "class ConcatStr(tf.keras.layers.Layer):\n",
    "  # Adding **kwargs to support base Keras layer arguments\n",
    "  def __init__(self, **kwargs):\n",
    "    super().__init__(**kwargs)\n",
    "\n",
    "  def call(self, x, y):\n",
    "    z = tf.strings.join([x,y])\n",
    "    return z\n"
   ]
  },
  {
   "cell_type": "code",
   "execution_count": 47,
   "metadata": {},
   "outputs": [
    {
     "name": "stdout",
     "output_type": "stream",
     "text": [
      "Model: \"model_2\"\n",
      "__________________________________________________________________________________________________\n",
      " Layer (type)                   Output Shape         Param #     Connected to                     \n",
      "==================================================================================================\n",
      " entree1 (InputLayer)           [(None, 1)]          0           []                               \n",
      "                                                                                                  \n",
      " entree2 (InputLayer)           [(None, 1)]          0           []                               \n",
      "                                                                                                  \n",
      " Score (ConcatStr)              (None, 1)            0           ['entree1[0][0]',                \n",
      "                                                                  'entree2[0][0]']                \n",
      "                                                                                                  \n",
      "==================================================================================================\n",
      "Total params: 0\n",
      "Trainable params: 0\n",
      "Non-trainable params: 0\n",
      "__________________________________________________________________________________________________\n"
     ]
    }
   ],
   "source": [
    "simple_layer = ConcatStr(name=\"Score\")\n",
    "import numpy as np\n",
    "inputs = {}\n",
    "\n",
    "inputs['entree1'] = tf.keras.Input(shape=(1,), name='entree1', dtype= tf.string)\n",
    "inputs['entree2'] = tf.keras.Input(shape=(1,), name='entree2', dtype= tf.string)\n",
    "\n",
    "resu = simple_layer(inputs['entree1'],inputs['entree2'])\n",
    "\n",
    "\n",
    "my_functional_model = tf.keras.Model(inputs=inputs, outputs=resu)\n",
    "\n",
    "my_functional_model.summary()"
   ]
  },
  {
   "cell_type": "code",
   "execution_count": 48,
   "metadata": {},
   "outputs": [],
   "source": [
    "import pandas as pd\n",
    "\n",
    "df = pd.DataFrame(data={'entree1':['zob','kiki'],'entree2':['tutu','tata']})\n",
    "features_dict = {name: np.array(value) \n",
    "                         for name, value in df.items()}"
   ]
  },
  {
   "cell_type": "code",
   "execution_count": 50,
   "metadata": {},
   "outputs": [
    {
     "name": "stdout",
     "output_type": "stream",
     "text": [
      "1/1 [==============================] - 0s 69ms/step\n"
     ]
    },
    {
     "data": {
      "text/plain": [
       "array([[b'zobtutu'],\n",
       "       [b'kikitata']], dtype=object)"
      ]
     },
     "execution_count": 50,
     "metadata": {},
     "output_type": "execute_result"
    }
   ],
   "source": [
    "my_functional_model.predict(features_dict)"
   ]
  },
  {
   "cell_type": "code",
   "execution_count": 49,
   "metadata": {},
   "outputs": [
    {
     "data": {
      "text/plain": [
       "{'entree1': array(['zob', 'kiki'], dtype=object),\n",
       " 'entree2': array(['tutu', 'tata'], dtype=object)}"
      ]
     },
     "execution_count": 49,
     "metadata": {},
     "output_type": "execute_result"
    }
   ],
   "source": [
    "features_dict"
   ]
  },
  {
   "cell_type": "code",
   "execution_count": null,
   "metadata": {},
   "outputs": [],
   "source": []
  },
  {
   "cell_type": "code",
   "execution_count": null,
   "metadata": {},
   "outputs": [],
   "source": []
  }
 ],
 "metadata": {
  "kernelspec": {
   "display_name": "Python 3",
   "language": "python",
   "name": "python3"
  },
  "language_info": {
   "codemirror_mode": {
    "name": "ipython",
    "version": 3
   },
   "file_extension": ".py",
   "mimetype": "text/x-python",
   "name": "python",
   "nbconvert_exporter": "python",
   "pygments_lexer": "ipython3",
   "version": "3.9.1"
  },
  "orig_nbformat": 4,
  "vscode": {
   "interpreter": {
    "hash": "81794d4967e6c3204c66dcd87b604927b115b27c00565d3d43f05ba2f3a2cb0d"
   }
  }
 },
 "nbformat": 4,
 "nbformat_minor": 2
}
